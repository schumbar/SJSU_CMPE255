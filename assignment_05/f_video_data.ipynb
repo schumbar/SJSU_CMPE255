{
  "cells": [
    {
      "cell_type": "markdown",
      "metadata": {
        "id": "view-in-github",
        "colab_type": "text"
      },
      "source": [
        "<a href=\"https://colab.research.google.com/github/schumbar/SJSU_CMPE255/blob/main/assignment_05/f_video_data.ipynb\" target=\"_parent\"><img src=\"https://colab.research.google.com/assets/colab-badge.svg\" alt=\"Open In Colab\"/></a>"
      ]
    },
    {
      "cell_type": "markdown",
      "metadata": {
        "id": "YpSbanmPVlu6"
      },
      "source": [
        "# Assignment 05: Data preparation and Processing - Video\n",
        "### Video Data\n",
        "By Shawn Chumbar\n",
        "  \n",
        "Please note that I have used ChatGPT to assist me with this assignment.\n",
        "\n",
        "\n",
        "Sources:\n",
        "1. ChatGPT-4\n",
        "2. [Dataset Link](https://www.kaggle.com/datasets/trainingdatapro/aggressive-behavior-video-classification)"
      ]
    },
    {
      "cell_type": "markdown",
      "metadata": {
        "id": "Hi205GlaVvmY"
      },
      "source": [
        "**Tasks:**\n",
        "\n",
        "For each of the data set types, we must perform the following tasks:\n",
        "1. Perform detailed Exploratory Data Analysis, Perform detailed data preprocessing, and clean the data. (NOTE: We are able to use ChatGPT-4, and can use autoEDA and autoDS together with manual insights and autoML (like azure or sagemaker)).\n",
        "2. Perform clustering and anomaly eliminations within the data sets. Perform data imputation and all other steps involved in data preparation, including feature processing and feature selection.\n",
        "3. Build various ML models using AutoML including ensemble models.\n",
        "4. Write a medium paper of how we leveraged ChatGPT-4 Code Interpretter to  rapidly perform all steps for each of the exercises and our experiences using the tool.  \n",
        "5. Submit a link to the medium article.\n",
        "\n",
        "\n",
        "The steps above must be done for the following type of datasets (mixture of imbalanced and balanced data sets):\n",
        "1. Tabular diverse set of data types (i.e. NYC Taxi)\n",
        "2. Timeseries\n",
        "3. Spatio Temporal\n",
        "4. Image (i.e. Kerascv or any other popular package)\n",
        "5. Audio\n",
        "6. Video (Action Recognition)\n",
        "7. Graph data set (i.e. citation, etc.)"
      ]
    },
    {
      "cell_type": "markdown",
      "metadata": {
        "id": "rZOK5n23bDwh"
      },
      "source": [
        "### Setup\n",
        "This section should be ran before anything else runs."
      ]
    },
    {
      "cell_type": "code",
      "execution_count": 1,
      "metadata": {
        "colab": {
          "base_uri": "https://localhost:8080/"
        },
        "id": "Z4kmskUhbHqe",
        "outputId": "b1ef7d96-f54a-4691-cd02-513c5749bd03"
      },
      "outputs": [
        {
          "output_type": "stream",
          "name": "stdout",
          "text": [
            "Mounted at /content/drive\n"
          ]
        }
      ],
      "source": [
        "from google.colab import drive\n",
        "drive.mount('/content/drive')"
      ]
    },
    {
      "cell_type": "code",
      "execution_count": 2,
      "metadata": {
        "colab": {
          "base_uri": "https://localhost:8080/"
        },
        "id": "n3Ah0USNa-Eq",
        "outputId": "6b41223b-1c81-4370-d9dd-151467091c89"
      },
      "outputs": [
        {
          "output_type": "stream",
          "name": "stdout",
          "text": [
            "Requirement already satisfied: matplotlib in /usr/local/lib/python3.10/dist-packages (3.7.1)\n",
            "Requirement already satisfied: contourpy>=1.0.1 in /usr/local/lib/python3.10/dist-packages (from matplotlib) (1.1.1)\n",
            "Requirement already satisfied: cycler>=0.10 in /usr/local/lib/python3.10/dist-packages (from matplotlib) (0.12.1)\n",
            "Requirement already satisfied: fonttools>=4.22.0 in /usr/local/lib/python3.10/dist-packages (from matplotlib) (4.43.1)\n",
            "Requirement already satisfied: kiwisolver>=1.0.1 in /usr/local/lib/python3.10/dist-packages (from matplotlib) (1.4.5)\n",
            "Requirement already satisfied: numpy>=1.20 in /usr/local/lib/python3.10/dist-packages (from matplotlib) (1.23.5)\n",
            "Requirement already satisfied: packaging>=20.0 in /usr/local/lib/python3.10/dist-packages (from matplotlib) (23.2)\n",
            "Requirement already satisfied: pillow>=6.2.0 in /usr/local/lib/python3.10/dist-packages (from matplotlib) (9.4.0)\n",
            "Requirement already satisfied: pyparsing>=2.3.1 in /usr/local/lib/python3.10/dist-packages (from matplotlib) (3.1.1)\n",
            "Requirement already satisfied: python-dateutil>=2.7 in /usr/local/lib/python3.10/dist-packages (from matplotlib) (2.8.2)\n",
            "Requirement already satisfied: six>=1.5 in /usr/local/lib/python3.10/dist-packages (from python-dateutil>=2.7->matplotlib) (1.16.0)\n",
            "Requirement already satisfied: seaborn in /usr/local/lib/python3.10/dist-packages (0.12.2)\n",
            "Requirement already satisfied: numpy!=1.24.0,>=1.17 in /usr/local/lib/python3.10/dist-packages (from seaborn) (1.23.5)\n",
            "Requirement already satisfied: pandas>=0.25 in /usr/local/lib/python3.10/dist-packages (from seaborn) (1.5.3)\n",
            "Requirement already satisfied: matplotlib!=3.6.1,>=3.1 in /usr/local/lib/python3.10/dist-packages (from seaborn) (3.7.1)\n",
            "Requirement already satisfied: contourpy>=1.0.1 in /usr/local/lib/python3.10/dist-packages (from matplotlib!=3.6.1,>=3.1->seaborn) (1.1.1)\n",
            "Requirement already satisfied: cycler>=0.10 in /usr/local/lib/python3.10/dist-packages (from matplotlib!=3.6.1,>=3.1->seaborn) (0.12.1)\n",
            "Requirement already satisfied: fonttools>=4.22.0 in /usr/local/lib/python3.10/dist-packages (from matplotlib!=3.6.1,>=3.1->seaborn) (4.43.1)\n",
            "Requirement already satisfied: kiwisolver>=1.0.1 in /usr/local/lib/python3.10/dist-packages (from matplotlib!=3.6.1,>=3.1->seaborn) (1.4.5)\n",
            "Requirement already satisfied: packaging>=20.0 in /usr/local/lib/python3.10/dist-packages (from matplotlib!=3.6.1,>=3.1->seaborn) (23.2)\n",
            "Requirement already satisfied: pillow>=6.2.0 in /usr/local/lib/python3.10/dist-packages (from matplotlib!=3.6.1,>=3.1->seaborn) (9.4.0)\n",
            "Requirement already satisfied: pyparsing>=2.3.1 in /usr/local/lib/python3.10/dist-packages (from matplotlib!=3.6.1,>=3.1->seaborn) (3.1.1)\n",
            "Requirement already satisfied: python-dateutil>=2.7 in /usr/local/lib/python3.10/dist-packages (from matplotlib!=3.6.1,>=3.1->seaborn) (2.8.2)\n",
            "Requirement already satisfied: pytz>=2020.1 in /usr/local/lib/python3.10/dist-packages (from pandas>=0.25->seaborn) (2023.3.post1)\n",
            "Requirement already satisfied: six>=1.5 in /usr/local/lib/python3.10/dist-packages (from python-dateutil>=2.7->matplotlib!=3.6.1,>=3.1->seaborn) (1.16.0)\n"
          ]
        }
      ],
      "source": [
        "!pip install matplotlib\n",
        "!pip install seaborn"
      ]
    },
    {
      "cell_type": "markdown",
      "metadata": {
        "id": "ld5fPmhUADJm"
      },
      "source": [
        "### Exploaratory Data Analysis\n"
      ]
    },
    {
      "cell_type": "code",
      "execution_count": 3,
      "metadata": {
        "id": "btWU_2I5_YkH"
      },
      "outputs": [],
      "source": [
        "import cv2\n",
        "import os\n",
        "import matplotlib.pyplot as plt\n",
        "import pandas as pd"
      ]
    },
    {
      "cell_type": "code",
      "execution_count": 4,
      "metadata": {
        "id": "B6xhk_hvTd9m"
      },
      "outputs": [],
      "source": [
        "base_path = '/content/drive/MyDrive/Colab Notebooks/CMPE255/assignment_05/datasets/f_video/files'\n",
        "aggressive_videos_path = '/content/drive/MyDrive/Colab Notebooks/CMPE255/assignment_05/datasets/f_video/files/aggressive'\n",
        "non_aggressive_videos_path = '/content/drive/MyDrive/Colab Notebooks/CMPE255/assignment_05/datasets/f_video/files/non_aggressive'\n",
        "csv_file_path = '/content/drive/MyDrive/Colab Notebooks/CMPE255/assignment_05/datasets/f_video/aggressive_behavior.csv'"
      ]
    },
    {
      "cell_type": "code",
      "execution_count": 5,
      "metadata": {
        "colab": {
          "base_uri": "https://localhost:8080/"
        },
        "id": "K-7fAiUo_gb0",
        "outputId": "659a781f-17c8-4a40-fce9-68f3f9d39995"
      },
      "outputs": [
        {
          "output_type": "stream",
          "name": "stdout",
          "text": [
            "Extracted 0 frames from /path/to/your/video.mp4\n"
          ]
        }
      ],
      "source": [
        "import cv2\n",
        "import os\n",
        "\n",
        "def extract_frames(video_path, output_folder, frame_interval=60):\n",
        "    \"\"\"\n",
        "    Extract frames from a video at specified intervals.\n",
        "\n",
        "    :param video_path: Path to the video file.\n",
        "    :param output_folder: Directory where the frames will be saved.\n",
        "    :param frame_interval: Interval (in frames) to capture frames.\n",
        "    \"\"\"\n",
        "    # Create the output folder if it doesn't exist\n",
        "    if not os.path.exists(output_folder):\n",
        "        os.makedirs(output_folder)\n",
        "\n",
        "    # Capture the video from the file\n",
        "    cap = cv2.VideoCapture(video_path)\n",
        "\n",
        "    # Get the total number of frames\n",
        "    total_frames = int(cap.get(cv2.CAP_PROP_FRAME_COUNT))\n",
        "\n",
        "    frame_count = 0\n",
        "    while True:\n",
        "        # Read frame by frame\n",
        "        ret, frame = cap.read()\n",
        "\n",
        "        # Break the loop if we failed to retrieve a frame\n",
        "        if not ret:\n",
        "            break\n",
        "\n",
        "        # If the frame is in the interval, save it\n",
        "        if frame_count % frame_interval == 0:\n",
        "            frame_file = os.path.join(output_folder, f\"frame_{frame_count}.jpg\")\n",
        "            cv2.imwrite(frame_file, frame)\n",
        "\n",
        "        frame_count += 1\n",
        "\n",
        "    # Release the video capture object\n",
        "    cap.release()\n",
        "    print(f\"Extracted {frame_count // frame_interval} frames from {video_path}\")\n",
        "\n",
        "# Usage example (adjust paths as necessary)\n",
        "# Note: The paths here should be absolute paths to where the actual data resides.\n",
        "video_file_path = '/path/to/your/video.mp4'\n",
        "output_directory = '/content/drive/MyDrive/Colab Notebooks/CMPE255/assignment_05/datasets/f_video/output'\n",
        "\n",
        "extract_frames(video_file_path, output_directory)\n"
      ]
    },
    {
      "cell_type": "code",
      "execution_count": 5,
      "metadata": {
        "id": "YSwmzYnbCIQ8"
      },
      "outputs": [],
      "source": []
    },
    {
      "cell_type": "code",
      "execution_count": 6,
      "metadata": {
        "colab": {
          "base_uri": "https://localhost:8080/"
        },
        "id": "G38jPZDNAGn1",
        "outputId": "04de668e-d608-49e1-84c8-fee78e2c03ff"
      },
      "outputs": [
        {
          "output_type": "stream",
          "name": "stdout",
          "text": [
            "                    file             type\n",
            "0  /non_aggressive/0.mp4  non_aggressive \n",
            "1  /non_aggressive/1.mp4  non_aggressive \n",
            "2  /non_aggressive/2.mp4  non_aggressive \n",
            "3  /non_aggressive/3.mp4  non_aggressive \n",
            "4  /non_aggressive/4.mp4  non_aggressive \n",
            "\n",
            "Missing values in each column:\n",
            "file    0\n",
            "type    0\n",
            "dtype: int64\n",
            "\n",
            "Class distribution:\n",
            "non_aggressive     6\n",
            "aggressive         5\n",
            "Name: type, dtype: int64\n"
          ]
        }
      ],
      "source": [
        "import pandas as pd\n",
        "\n",
        "# Load the dataset\n",
        "data = pd.read_csv(csv_file_path)\n",
        "\n",
        "# Display the first few rows of the dataframe\n",
        "print(data.head())\n",
        "\n",
        "# Check for any missing values in the dataset\n",
        "print(\"\\nMissing values in each column:\")\n",
        "print(data.isnull().sum())\n",
        "\n",
        "# Analyze the distribution of video classifications\n",
        "print(\"\\nClass distribution:\")\n",
        "class_distribution = data['type'].value_counts()\n",
        "print(class_distribution)\n"
      ]
    },
    {
      "cell_type": "code",
      "execution_count": 7,
      "metadata": {
        "colab": {
          "base_uri": "https://localhost:8080/",
          "height": 607
        },
        "id": "k4G5KUrKBnU-",
        "outputId": "e5f27b2f-b40d-4a3c-f0e4-757fc986bc65"
      },
      "outputs": [
        {
          "output_type": "display_data",
          "data": {
            "text/plain": [
              "<Figure size 1000x600 with 1 Axes>"
            ],
            "image/png": "[encoded data removed]"
          },
          "metadata": {}
        }
      ],
      "source": [
        "# Create a bar chart visualizing the class distribution\n",
        "plt.figure(figsize=(10, 6))\n",
        "plt.bar(class_distribution.index, class_distribution.values, color=['blue', 'red'])\n",
        "\n",
        "plt.title('Distribution of Video Types')\n",
        "plt.xlabel('Behavior Type')\n",
        "plt.ylabel('Number of Videos')\n",
        "plt.xticks(rotation=45)  # rotate x-axis labels for better readability\n",
        "\n",
        "# Display the plot\n",
        "plt.tight_layout()\n",
        "plt.show()"
      ]
    },
    {
      "cell_type": "markdown",
      "metadata": {
        "id": "tjweKhKiB0ZE"
      },
      "source": [
        "#### EDA Insights\n",
        "As we can see, there are 6 non-aggressive videos in the dataset and 5 aggressive videos within the dataset."
      ]
    },
    {
      "cell_type": "markdown",
      "metadata": {
        "id": "MR_1GTyu_i33"
      },
      "source": [
        "### Data Cleaning and Preparation\n",
        "We will perform a file integrity check.\n",
        "\n",
        "This step is crucial because it ensures all the video files referenced in the dataset are available for further processing.\n",
        "\n",
        "Missing or corrupt files could cause errors during the feature extraction phase.\n",
        "\n",
        "This script assumes that the file paths in the CSV are relative to the location of the videos."
      ]
    },
    {
      "cell_type": "code",
      "execution_count": 8,
      "metadata": {
        "colab": {
          "base_uri": "https://localhost:8080/"
        },
        "id": "rhB6oFz3CPVf",
        "outputId": "e333adb1-5bcb-455a-b0ed-ebb98dfb57dc"
      },
      "outputs": [
        {
          "output_type": "stream",
          "name": "stdout",
          "text": [
            "\n",
            "All files are accounted for.\n"
          ]
        }
      ],
      "source": [
        "import os\n",
        "\n",
        "def check_file_integrity(dataframe, base_path):\n",
        "    \"\"\"\n",
        "    Check if the files listed in the dataframe exist, considering their classification subdirectories.\n",
        "\n",
        "    :param dataframe: Pandas dataframe containing file paths and classifications.\n",
        "    :param base_path: The base path where the video folders are located.\n",
        "    :return: A list of files that are missing.\n",
        "    \"\"\"\n",
        "    missing_files = []\n",
        "\n",
        "    for idx, row in dataframe.iterrows():\n",
        "        # Construct the absolute path to the file, considering the 'type' column for the subdirectory\n",
        "        relative_path = row['file'].strip()\n",
        "        file_path = os.path.join(base_path)\n",
        "\n",
        "        # Check if the file exists\n",
        "        if not os.path.exists(file_path):\n",
        "            print(f\"File not found: {file_path}\")\n",
        "            missing_files.append(file_path)\n",
        "\n",
        "    return missing_files\n",
        "\n",
        "# Base path where the folders 'aggressive' and 'non_aggressive' are located (adjust accordingly)\n",
        "videos_base_path = base_path\n",
        "\n",
        "# Perform the file integrity check\n",
        "missing_files_list = check_file_integrity(data, videos_base_path)\n",
        "\n",
        "# If there are missing files, you can decide what to do next (e.g., remove the references from the dataset or locate the missing files).\n",
        "if missing_files_list:\n",
        "    print(f\"\\nMissing files: {len(missing_files_list)}\")\n",
        "else:\n",
        "    print(\"\\nAll files are accounted for.\")\n"
      ]
    },
    {
      "cell_type": "markdown",
      "metadata": {
        "id": "GOA9qmEEEqHp"
      },
      "source": [
        "We have verified that all files are accounted for and exist within the dataset.\n",
        "\n",
        "Now that we have confirmed the integrity of our video files, we can delve a bit deeper into understanding more about the videos themselves. This involves extracting some basic properties from the videos, which can provide insights into the nature of the dataset beyond just the file paths and labels.\n",
        "\n",
        "Some common properties to consider might include:\n",
        "* Duration: The length of each video.\n",
        "* Frame rate: The number of frames per second (fps), which might impact how we extract images from the video for frame-based analysis.\n",
        "* Resolution: The dimensions of the video, which could affect the level of detail visible in each frame.\n",
        "* Format/Codec: Understanding the video format might be necessary if there are compatibility issues with your video processing tools.\n"
      ]
    },
    {
      "cell_type": "code",
      "execution_count": 9,
      "metadata": {
        "colab": {
          "base_uri": "https://localhost:8080/"
        },
        "id": "0HDWNhWjFTwF",
        "outputId": "74132530-bc3e-4814-f6bd-8fa5ef6c0b81"
      },
      "outputs": [
        {
          "output_type": "stream",
          "name": "stdout",
          "text": [
            "{'video': 'non_aggressive/0.mp4', 'length': 96, 'fps': 29.97002997002997, 'resolution': (1280, 720), 'codec': 875967080.0}\n",
            "{'video': 'non_aggressive/1.mp4', 'length': 330, 'fps': 30.0, 'resolution': (960, 720), 'codec': 875967080.0}\n",
            "{'video': 'non_aggressive/2.mp4', 'length': 78, 'fps': 25.0, 'resolution': (1280, 720), 'codec': 875967080.0}\n",
            "{'video': 'non_aggressive/3.mp4', 'length': 54, 'fps': 29.97002997002997, 'resolution': (1174, 660), 'codec': 875967080.0}\n",
            "{'video': 'non_aggressive/4.mp4', 'length': 250, 'fps': 30.0, 'resolution': (1280, 720), 'codec': 875967080.0}\n",
            "{'video': 'non_aggressive/5.mp4', 'length': 150, 'fps': 29.97002997002997, 'resolution': (1280, 720), 'codec': 875967080.0}\n",
            "{'video': 'aggressive/0.mp4', 'length': 741, 'fps': 60.0, 'resolution': (1920, 1080), 'codec': 875967080.0}\n",
            "{'video': 'aggressive/1.mp4', 'length': 365, 'fps': 60.0, 'resolution': (1920, 1080), 'codec': 875967080.0}\n",
            "{'video': 'aggressive/2.mp4', 'length': 169, 'fps': 60.0, 'resolution': (1920, 1080), 'codec': 875967080.0}\n",
            "{'video': 'aggressive/3.mp4', 'length': 1111, 'fps': 60.0, 'resolution': (1920, 1080), 'codec': 875967080.0}\n",
            "{'video': 'aggressive/4.mp4', 'length': 1287, 'fps': 60.0, 'resolution': (1920, 1080), 'codec': 875967080.0}\n"
          ]
        }
      ],
      "source": [
        "import cv2\n",
        "\n",
        "\n",
        "\n",
        "def get_all_video_properties(dataframe, base_path):\n",
        "    missing_files = []\n",
        "\n",
        "    for idx, row in dataframe.iterrows():\n",
        "        # Construct the absolute path to the file, considering the 'type' column for the subdirectory\n",
        "        relative_path = row['file'].strip()\n",
        "        file_path = base_path + relative_path\n",
        "        print(get_video_properties(file_path))\n",
        "\n",
        "def get_video_properties(video_path):\n",
        "    \"\"\"\n",
        "    Retrieve properties of the video.\n",
        "\n",
        "    :param video_path: Path to the video file.\n",
        "    :return: Dictionary containing video properties.\n",
        "    \"\"\"\n",
        "    # Attempt to open the video file\n",
        "    cap = cv2.VideoCapture(video_path)\n",
        "    if not cap.isOpened():\n",
        "        print(f\"Failed to open the video file: {video_path}\")\n",
        "        return None\n",
        "\n",
        "    # Retrieve the properties\n",
        "    length = int(cap.get(cv2.CAP_PROP_FRAME_COUNT))\n",
        "    fps    = cap.get(cv2.CAP_PROP_FPS)\n",
        "    width  = int(cap.get(cv2.CAP_PROP_FRAME_WIDTH))\n",
        "    height = int(cap.get(cv2.CAP_PROP_FRAME_HEIGHT))\n",
        "    codec  = cap.get(cv2.CAP_PROP_FOURCC)\n",
        "\n",
        "    cap.release()\n",
        "\n",
        "    # Organize properties in a dictionary\n",
        "    properties = {\n",
        "        'video': video_path.removeprefix(base_path + '/'),\n",
        "        'length': length,\n",
        "        'fps': fps,\n",
        "        'resolution': (width, height),\n",
        "        'codec': codec\n",
        "    }\n",
        "\n",
        "    return properties\n",
        "\n",
        "# Extract and print the video properties\n",
        "video_properties = get_all_video_properties(data, base_path)\n",
        "if video_properties:\n",
        "    for prop, value in video_properties.items():\n",
        "        print(f\"{prop}: {value}\")\n"
      ]
    },
    {
      "cell_type": "markdown",
      "metadata": {
        "id": "YL3410Q1JhvU"
      },
      "source": [
        "We can see some data above regarding our video dataset. We can see that most of the aggressive videos have a FPS of about 60 with high resolution. However the non_aggressive videos include videos that hav ea relatively lower resolution (i.e. 960x720 or 1280x720)."
      ]
    },
    {
      "cell_type": "markdown",
      "metadata": {
        "id": "MbU_Sy4VKeVw"
      },
      "source": [
        "The next logical step in our data exploration process is to delve into the actual content of the videos. This phase is more complex and involves direct video processing to prepare for feature extraction, which is crucial for training our machine learning model.\n",
        "\n",
        "Given that raw video data is not directly usable for machine learning models, we need to extract meaningful features that can be processed by these models. These features can vary significantly depending on what aspects of the videos are most indicative of aggressive behavior. Common features derived from video data include:\n",
        "\n",
        "1. Key Frames: Extracting important frames from the videos (either at regular intervals or based on certain triggers like motion detection) and analyzing them as individual images.\n",
        "2. Motion Analysis: Deriving features that describe the motion in the video, such as the amount of motion, the direction of motion, key points, etc.\n",
        "3. Object Detection and Recognition: Identifying certain objects or scenarios in the videos that could be indicative of aggressive behavior.\n",
        "4. Sound Analysis: If the videos have sound, analyzing the audio track for cues, such as volume spikes, tones, or specific sounds that indicate aggressive behavior.\n",
        "For the purpose of initial exploration, we'll start with extracting key frames from the videos. We'll write a script that will:"
      ]
    },
    {
      "cell_type": "code",
      "execution_count": 10,
      "metadata": {
        "colab": {
          "base_uri": "https://localhost:8080/"
        },
        "id": "cleFhky4JSbz",
        "outputId": "4ceb4770-6c2d-4832-e004-859b1a200660"
      },
      "outputs": [
        {
          "output_type": "stream",
          "name": "stdout",
          "text": [
            "Extracted 9 frames from /content/drive/MyDrive/Colab Notebooks/CMPE255/assignment_05/datasets/f_video/files/non_aggressive/0.mp4\n",
            "Extracted 33 frames from /content/drive/MyDrive/Colab Notebooks/CMPE255/assignment_05/datasets/f_video/files/non_aggressive/1.mp4\n",
            "Extracted 7 frames from /content/drive/MyDrive/Colab Notebooks/CMPE255/assignment_05/datasets/f_video/files/non_aggressive/2.mp4\n",
            "Extracted 5 frames from /content/drive/MyDrive/Colab Notebooks/CMPE255/assignment_05/datasets/f_video/files/non_aggressive/3.mp4\n",
            "Extracted 25 frames from /content/drive/MyDrive/Colab Notebooks/CMPE255/assignment_05/datasets/f_video/files/non_aggressive/4.mp4\n",
            "Extracted 15 frames from /content/drive/MyDrive/Colab Notebooks/CMPE255/assignment_05/datasets/f_video/files/non_aggressive/5.mp4\n",
            "Extracted 74 frames from /content/drive/MyDrive/Colab Notebooks/CMPE255/assignment_05/datasets/f_video/files/aggressive/0.mp4\n",
            "Extracted 36 frames from /content/drive/MyDrive/Colab Notebooks/CMPE255/assignment_05/datasets/f_video/files/aggressive/1.mp4\n",
            "Extracted 16 frames from /content/drive/MyDrive/Colab Notebooks/CMPE255/assignment_05/datasets/f_video/files/aggressive/2.mp4\n",
            "Extracted 111 frames from /content/drive/MyDrive/Colab Notebooks/CMPE255/assignment_05/datasets/f_video/files/aggressive/3.mp4\n",
            "Extracted 128 frames from /content/drive/MyDrive/Colab Notebooks/CMPE255/assignment_05/datasets/f_video/files/aggressive/4.mp4\n"
          ]
        }
      ],
      "source": [
        "import cv2\n",
        "import os\n",
        "\n",
        "def get_list_of_videos(dataframe, base_path):\n",
        "    file_paths = []\n",
        "\n",
        "    for idx, row in dataframe.iterrows():\n",
        "        # Construct the absolute path to the file, considering the 'type' column for the subdirectory\n",
        "        relative_path = row['file'].strip()\n",
        "        file_path = base_path + relative_path\n",
        "        file_paths = file_paths + [file_path]\n",
        "    return file_paths\n",
        "\n",
        "\n",
        "\n",
        "def extract_key_frames(video_path, output_folder, frame_interval=10):\n",
        "    \"\"\"\n",
        "    Extracts key frames from a video at specified intervals.\n",
        "\n",
        "    :param video_path: Path to the video file.\n",
        "    :param output_folder: Directory where the frames will be saved.\n",
        "    :param frame_interval: Interval (in frames) at which frames will be captured.\n",
        "    \"\"\"\n",
        "    # Create the output folder if it doesn't exist\n",
        "    if not os.path.exists(output_folder):\n",
        "        os.makedirs(output_folder)\n",
        "\n",
        "    vid_type = 'aggressive'\n",
        "\n",
        "    if 'non_aggressive' in video_path:\n",
        "      vid_type = 'non_aggressive'\n",
        "\n",
        "\n",
        "    # Capture the video from the file\n",
        "    cap = cv2.VideoCapture(video_path)\n",
        "\n",
        "    frame_count = 0\n",
        "    while True:\n",
        "        # Read frame by frame\n",
        "        ret, frame = cap.read()\n",
        "\n",
        "        # Break the loop if we failed to retrieve a frame\n",
        "        if not ret:\n",
        "            break\n",
        "\n",
        "        # If the frame is in the interval, save it\n",
        "        if frame_count % frame_interval == 0:\n",
        "            frame_file = os.path.join(output_folder, f\"{vid_type}_frame_{frame_count}.jpg\")\n",
        "            cv2.imwrite(frame_file, frame)\n",
        "\n",
        "        frame_count += 1\n",
        "\n",
        "    # Release the video capture object\n",
        "    cap.release()\n",
        "    print(f\"Extracted {frame_count // frame_interval} frames from {video_path}\")\n",
        "\n",
        "# Usage example (you should adjust paths as necessary)\n",
        "output_directory = '/content/drive/MyDrive/Colab Notebooks/CMPE255/assignment_05/datasets/f_video/extracted_frames'\n",
        "\n",
        "files_list = get_list_of_videos(data, base_path)\n",
        "for each_file in files_list:\n",
        "  extract_key_frames(each_file, output_directory)\n"
      ]
    },
    {
      "cell_type": "code",
      "execution_count": 11,
      "metadata": {
        "colab": {
          "base_uri": "https://localhost:8080/",
          "height": 927
        },
        "id": "ENhp8W1JMhj2",
        "outputId": "919f50cd-7eec-4f8d-bdbb-ef8e940091c3"
      },
      "outputs": [
        {
          "output_type": "display_data",
          "data": {
            "text/plain": [
              "<Figure size 640x480 with 1 Axes>"
            ],
            "image/png": "[encoded data removed]"
          },
          "metadata": {}
        },
        {
          "output_type": "display_data",
          "data": {
            "text/plain": [
              "<Figure size 640x480 with 1 Axes>"
            ],
            "image/png": "[encoded data removed]"
          },
          "metadata": {}
        }
      ],
      "source": [
        "import cv2\n",
        "import numpy as np\n",
        "import matplotlib.pyplot as plt\n",
        "\n",
        "def calculate_histogram(image_path):\n",
        "    # Read the image\n",
        "    image = cv2.imread(image_path)\n",
        "\n",
        "    # Calculate the color histogram\n",
        "    histogram = cv2.calcHist([image], [0], None, [256], [0, 256])\n",
        "\n",
        "    return histogram\n",
        "\n",
        "def plot_histogram(histogram, histogram_title):\n",
        "    # Plot the histogram\n",
        "    plt.figure()\n",
        "    plt.title(histogram_title)\n",
        "    plt.xlabel(\"Bins\")\n",
        "    plt.ylabel(\"# of Pixels\")\n",
        "    plt.plot(histogram)\n",
        "    plt.xlim([0, 256])\n",
        "    plt.show()\n",
        "\n",
        "# Calculate and plot histogram for a sample frame\n",
        "frame_path = '/content/drive/MyDrive/Colab Notebooks/CMPE255/assignment_05/datasets/f_video/extracted_frames/aggressive_frame_100.jpg'\n",
        "histogram = calculate_histogram(frame_path)\n",
        "plot_histogram(histogram, 'Color Histogram of aggressive frame')\n",
        "\n",
        "frame_path = '/content/drive/MyDrive/Colab Notebooks/CMPE255/assignment_05/datasets/f_video/extracted_frames/non_aggressive_frame_100.jpg'\n",
        "histogram = calculate_histogram(frame_path)\n",
        "plot_histogram(histogram, 'Color Histogram of non-aggressive frame')\n"
      ]
    },
    {
      "cell_type": "markdown",
      "metadata": {
        "id": "atXMeausYAwA"
      },
      "source": [
        "### Data Preprocessing and Feature Extraction\n",
        "In this section, we will take a look at some of the features within the frames in the video. Some examples may include:\n",
        "\n",
        "1. Image-Based Features:\n",
        "After you have key frames, you can treat them as individual images and apply various image analysis techniques. For instance:\n",
        "\n",
        "    - Color Histograms: If color is a significant indicator (for instance, aggressive behavior happens in specific settings that could be color-coded), you could extract color histograms as features.\n",
        "    \n",
        "    - Texture: If the context or background where the aggressive behavior is happening is important, texture analysis could be helpful.\n",
        "    \n",
        "    - Object Detection: If certain objects tend to appear when aggressive behavior happens, object detection can help identify these instances.\n",
        "\n",
        "\n",
        "2. Motion-Based Features:\n",
        "Since videos capture motion, analyzing the difference between consecutive frames can give you insights into the motion in the videos.\n",
        "    - Optical Flow: This technique captures the motion of objects between consecutive frames, which could be significant in your analysis.\n",
        "    \n",
        "    - Action Recognition: If aggressive behavior involves certain actions (like running, hitting, etc.), you can train models to recognize these actions specifically.\n",
        "\n",
        "3. Sound Analysis (if applicable):\n",
        "If your videos have sound, this can be a rich source of data.\n",
        "    - Volume Analysis: Sudden spikes in volume could be indicative of aggressive behavior.\n",
        "    \n",
        "    - Speech Analysis: If the videos contain speech, aggressive tones or words could be detected (though this involves natural language processing).\n",
        "\n",
        "4. Deep Learning Features: Sometimes, the features that matter are not things we can easily define. Deep learning models can extract features on their own from raw data.\n",
        "- Convolutional Neural Networks (CNNs): These can be trained on frames to understand and identify key features in images.\n",
        "- Recurrent Neural Networks (RNNs) or Long Short-Term Memory Networks (LSTMs): These are suitable for video data, as they can analyze sequences of data (like frames)."
      ]
    },
    {
      "cell_type": "markdown",
      "metadata": {
        "id": "RBBXiHw1PdL8"
      },
      "source": [
        "Let's start off with motion analysis."
      ]
    },
    {
      "cell_type": "code",
      "execution_count": 12,
      "metadata": {
        "id": "f_zcX2a3Pgkj"
      },
      "outputs": [],
      "source": [
        "import cv2\n",
        "import numpy as np\n",
        "import pandas as pd\n",
        "\n",
        "def analyze_motion(video_paths):\n",
        "    \"\"\"\n",
        "    Analyze motion in a list of videos using optical flow and return a DataFrame containing motion features.\n",
        "\n",
        "    :param video_paths: List of paths to video files.\n",
        "    :return: DataFrame containing motion features for each video.\n",
        "    \"\"\"\n",
        "    all_features = []\n",
        "\n",
        "    for video_path in video_paths:\n",
        "        # Initialize video capture\n",
        "        cap = cv2.VideoCapture(video_path)\n",
        "\n",
        "        # Check if video opened successfully\n",
        "        if not cap.isOpened():\n",
        "            print(f\"Error: Unable to open video: {video_path}\")\n",
        "            continue\n",
        "\n",
        "        # Read the first frame and convert it to grayscale\n",
        "        ret, first_frame = cap.read()\n",
        "        prev_gray = cv2.cvtColor(first_frame, cv2.COLOR_BGR2GRAY)\n",
        "\n",
        "        video_features = []\n",
        "\n",
        "        while True:\n",
        "            ret, frame = cap.read()\n",
        "            if ret:\n",
        "                # Convert the frame to grayscale\n",
        "                gray = cv2.cvtColor(frame, cv2.COLOR_BGR2GRAY)\n",
        "\n",
        "                # Calculate optical flow\n",
        "                flow = cv2.calcOpticalFlowFarneback(prev_gray, gray, None, 0.5, 3, 15, 3, 5, 1.2, 0)\n",
        "\n",
        "                # Compute the average flow in the x and y directions\n",
        "                avg_flow = np.mean(flow, axis=(0, 1))\n",
        "\n",
        "                # Store the result\n",
        "                video_features.append(avg_flow)\n",
        "\n",
        "                # Update the previous frame\n",
        "                prev_gray = gray\n",
        "\n",
        "                if cv2.waitKey(30) & 0xFF == ord('q'):\n",
        "                    break\n",
        "            else:\n",
        "                break\n",
        "\n",
        "        # Release the video capture object\n",
        "        cap.release()\n",
        "\n",
        "        # Aggregate the results for this video and add them to the list of all results\n",
        "        video_summary = np.mean(video_features, axis=0)\n",
        "        all_features.append(video_summary)\n",
        "\n",
        "    # Clean up\n",
        "    cv2.destroyAllWindows()\n",
        "\n",
        "    # Convert the list of features into a DataFrame\n",
        "    motion_df = pd.DataFrame(all_features, columns=['avg_flow_x', 'avg_flow_y'])\n",
        "\n",
        "    return motion_df"
      ]
    },
    {
      "cell_type": "code",
      "execution_count": 13,
      "metadata": {
        "id": "82BPiKFNc_eX"
      },
      "outputs": [],
      "source": [
        "video_list = [\n",
        "    '/content/drive/MyDrive/Colab Notebooks/CMPE255/assignment_05/datasets/f_video/files/aggressive/2.mp4',\n",
        "    '/content/drive/MyDrive/Colab Notebooks/CMPE255/assignment_05/datasets/f_video/files/aggressive/1.mp4',\n",
        "    '/content/drive/MyDrive/Colab Notebooks/CMPE255/assignment_05/datasets/f_video/files/non_aggressive/2.mp4',\n",
        "    '/content/drive/MyDrive/Colab Notebooks/CMPE255/assignment_05/datasets/f_video/files/non_aggressive/3.mp4',\n",
        "\n",
        "]\n",
        "modtion_data = analyze_motion(video_list)"
      ]
    },
    {
      "cell_type": "code",
      "source": [
        "modtion_data"
      ],
      "metadata": {
        "colab": {
          "base_uri": "https://localhost:8080/",
          "height": 175
        },
        "id": "S8NeyV_6klzW",
        "outputId": "5696588b-48ab-4e7e-bf43-ae934a849761"
      },
      "execution_count": 14,
      "outputs": [
        {
          "output_type": "execute_result",
          "data": {
            "text/plain": [
              "   avg_flow_x  avg_flow_y\n",
              "0   -0.073676    0.037322\n",
              "1   -0.015536   -0.015974\n",
              "2    0.053065    0.037457\n",
              "3   -0.098516   -0.388101"
            ],
            "text/html": [
              "\n",
              "  <div id=\"df-561993ac-17c5-4cc1-9126-e2cf119fd5da\" class=\"colab-df-container\">\n",
              "    <div>\n",
              "<style scoped>\n",
              "    .dataframe tbody tr th:only-of-type {\n",
              "        vertical-align: middle;\n",
              "    }\n",
              "\n",
              "    .dataframe tbody tr th {\n",
              "        vertical-align: top;\n",
              "    }\n",
              "\n",
              "    .dataframe thead th {\n",
              "        text-align: right;\n",
              "    }\n",
              "</style>\n",
              "<table border=\"1\" class=\"dataframe\">\n",
              "  <thead>\n",
              "    <tr style=\"text-align: right;\">\n",
              "      <th></th>\n",
              "      <th>avg_flow_x</th>\n",
              "      <th>avg_flow_y</th>\n",
              "    </tr>\n",
              "  </thead>\n",
              "  <tbody>\n",
              "    <tr>\n",
              "      <th>0</th>\n",
              "      <td>-0.073676</td>\n",
              "      <td>0.037322</td>\n",
              "    </tr>\n",
              "    <tr>\n",
              "      <th>1</th>\n",
              "      <td>-0.015536</td>\n",
              "      <td>-0.015974</td>\n",
              "    </tr>\n",
              "    <tr>\n",
              "      <th>2</th>\n",
              "      <td>0.053065</td>\n",
              "      <td>0.037457</td>\n",
              "    </tr>\n",
              "    <tr>\n",
              "      <th>3</th>\n",
              "      <td>-0.098516</td>\n",
              "      <td>-0.388101</td>\n",
              "    </tr>\n",
              "  </tbody>\n",
              "</table>\n",
              "</div>\n",
              "    <div class=\"colab-df-buttons\">\n",
              "\n",
              "  <div class=\"colab-df-container\">\n",
              "    <button class=\"colab-df-convert\" onclick=\"convertToInteractive('df-561993ac-17c5-4cc1-9126-e2cf119fd5da')\"\n",
              "            title=\"Convert this dataframe to an interactive table.\"\n",
              "            style=\"display:none;\">\n",
              "\n",
              "  <svg xmlns=\"http://www.w3.org/2000/svg\" height=\"24px\" viewBox=\"0 -960 960 960\">\n",
              "    <path d=\"M120-120v-720h720v720H120Zm60-500h600v-160H180v160Zm220 220h160v-160H400v160Zm0 220h160v-160H400v160ZM180-400h160v-160H180v160Zm440 0h160v-160H620v160ZM180-180h160v-160H180v160Zm440 0h160v-160H620v160Z\"/>\n",
              "  </svg>\n",
              "    </button>\n",
              "\n",
              "  <style>\n",
              "    .colab-df-container {\n",
              "      display:flex;\n",
              "      gap: 12px;\n",
              "    }\n",
              "\n",
              "    .colab-df-convert {\n",
              "      background-color: #E8F0FE;\n",
              "      border: none;\n",
              "      border-radius: 50%;\n",
              "      cursor: pointer;\n",
              "      display: none;\n",
              "      fill: #1967D2;\n",
              "      height: 32px;\n",
              "      padding: 0 0 0 0;\n",
              "      width: 32px;\n",
              "    }\n",
              "\n",
              "    .colab-df-convert:hover {\n",
              "      background-color: #E2EBFA;\n",
              "      box-shadow: 0px 1px 2px rgba(60, 64, 67, 0.3), 0px 1px 3px 1px rgba(60, 64, 67, 0.15);\n",
              "      fill: #174EA6;\n",
              "    }\n",
              "\n",
              "    .colab-df-buttons div {\n",
              "      margin-bottom: 4px;\n",
              "    }\n",
              "\n",
              "    [theme=dark] .colab-df-convert {\n",
              "      background-color: #3B4455;\n",
              "      fill: #D2E3FC;\n",
              "    }\n",
              "\n",
              "    [theme=dark] .colab-df-convert:hover {\n",
              "      background-color: #434B5C;\n",
              "      box-shadow: 0px 1px 3px 1px rgba(0, 0, 0, 0.15);\n",
              "      filter: drop-shadow(0px 1px 2px rgba(0, 0, 0, 0.3));\n",
              "      fill: #FFFFFF;\n",
              "    }\n",
              "  </style>\n",
              "\n",
              "    <script>\n",
              "      const buttonEl =\n",
              "        document.querySelector('#df-561993ac-17c5-4cc1-9126-e2cf119fd5da button.colab-df-convert');\n",
              "      buttonEl.style.display =\n",
              "        google.colab.kernel.accessAllowed ? 'block' : 'none';\n",
              "\n",
              "      async function convertToInteractive(key) {\n",
              "        const element = document.querySelector('#df-561993ac-17c5-4cc1-9126-e2cf119fd5da');\n",
              "        const dataTable =\n",
              "          await google.colab.kernel.invokeFunction('convertToInteractive',\n",
              "                                                    [key], {});\n",
              "        if (!dataTable) return;\n",
              "\n",
              "        const docLinkHtml = 'Like what you see? Visit the ' +\n",
              "          '<a target=\"_blank\" href=https://colab.research.google.com/notebooks/data_table.ipynb>data table notebook</a>'\n",
              "          + ' to learn more about interactive tables.';\n",
              "        element.innerHTML = '';\n",
              "        dataTable['output_type'] = 'display_data';\n",
              "        await google.colab.output.renderOutput(dataTable, element);\n",
              "        const docLink = document.createElement('div');\n",
              "        docLink.innerHTML = docLinkHtml;\n",
              "        element.appendChild(docLink);\n",
              "      }\n",
              "    </script>\n",
              "  </div>\n",
              "\n",
              "\n",
              "<div id=\"df-d0cdbe55-f44c-43d4-8fa2-aad7945c2003\">\n",
              "  <button class=\"colab-df-quickchart\" onclick=\"quickchart('df-d0cdbe55-f44c-43d4-8fa2-aad7945c2003')\"\n",
              "            title=\"Suggest charts.\"\n",
              "            style=\"display:none;\">\n",
              "\n",
              "<svg xmlns=\"http://www.w3.org/2000/svg\" height=\"24px\"viewBox=\"0 0 24 24\"\n",
              "     width=\"24px\">\n",
              "    <g>\n",
              "        <path d=\"M19 3H5c-1.1 0-2 .9-2 2v14c0 1.1.9 2 2 2h14c1.1 0 2-.9 2-2V5c0-1.1-.9-2-2-2zM9 17H7v-7h2v7zm4 0h-2V7h2v10zm4 0h-2v-4h2v4z\"/>\n",
              "    </g>\n",
              "</svg>\n",
              "  </button>\n",
              "\n",
              "<style>\n",
              "  .colab-df-quickchart {\n",
              "      --bg-color: #E8F0FE;\n",
              "      --fill-color: #1967D2;\n",
              "      --hover-bg-color: #E2EBFA;\n",
              "      --hover-fill-color: #174EA6;\n",
              "      --disabled-fill-color: #AAA;\n",
              "      --disabled-bg-color: #DDD;\n",
              "  }\n",
              "\n",
              "  [theme=dark] .colab-df-quickchart {\n",
              "      --bg-color: #3B4455;\n",
              "      --fill-color: #D2E3FC;\n",
              "      --hover-bg-color: #434B5C;\n",
              "      --hover-fill-color: #FFFFFF;\n",
              "      --disabled-bg-color: #3B4455;\n",
              "      --disabled-fill-color: #666;\n",
              "  }\n",
              "\n",
              "  .colab-df-quickchart {\n",
              "    background-color: var(--bg-color);\n",
              "    border: none;\n",
              "    border-radius: 50%;\n",
              "    cursor: pointer;\n",
              "    display: none;\n",
              "    fill: var(--fill-color);\n",
              "    height: 32px;\n",
              "    padding: 0;\n",
              "    width: 32px;\n",
              "  }\n",
              "\n",
              "  .colab-df-quickchart:hover {\n",
              "    background-color: var(--hover-bg-color);\n",
              "    box-shadow: 0 1px 2px rgba(60, 64, 67, 0.3), 0 1px 3px 1px rgba(60, 64, 67, 0.15);\n",
              "    fill: var(--button-hover-fill-color);\n",
              "  }\n",
              "\n",
              "  .colab-df-quickchart-complete:disabled,\n",
              "  .colab-df-quickchart-complete:disabled:hover {\n",
              "    background-color: var(--disabled-bg-color);\n",
              "    fill: var(--disabled-fill-color);\n",
              "    box-shadow: none;\n",
              "  }\n",
              "\n",
              "  .colab-df-spinner {\n",
              "    border: 2px solid var(--fill-color);\n",
              "    border-color: transparent;\n",
              "    border-bottom-color: var(--fill-color);\n",
              "    animation:\n",
              "      spin 1s steps(1) infinite;\n",
              "  }\n",
              "\n",
              "  @keyframes spin {\n",
              "    0% {\n",
              "      border-color: transparent;\n",
              "      border-bottom-color: var(--fill-color);\n",
              "      border-left-color: var(--fill-color);\n",
              "    }\n",
              "    20% {\n",
              "      border-color: transparent;\n",
              "      border-left-color: var(--fill-color);\n",
              "      border-top-color: var(--fill-color);\n",
              "    }\n",
              "    30% {\n",
              "      border-color: transparent;\n",
              "      border-left-color: var(--fill-color);\n",
              "      border-top-color: var(--fill-color);\n",
              "      border-right-color: var(--fill-color);\n",
              "    }\n",
              "    40% {\n",
              "      border-color: transparent;\n",
              "      border-right-color: var(--fill-color);\n",
              "      border-top-color: var(--fill-color);\n",
              "    }\n",
              "    60% {\n",
              "      border-color: transparent;\n",
              "      border-right-color: var(--fill-color);\n",
              "    }\n",
              "    80% {\n",
              "      border-color: transparent;\n",
              "      border-right-color: var(--fill-color);\n",
              "      border-bottom-color: var(--fill-color);\n",
              "    }\n",
              "    90% {\n",
              "      border-color: transparent;\n",
              "      border-bottom-color: var(--fill-color);\n",
              "    }\n",
              "  }\n",
              "</style>\n",
              "\n",
              "  <script>\n",
              "    async function quickchart(key) {\n",
              "      const quickchartButtonEl =\n",
              "        document.querySelector('#' + key + ' button');\n",
              "      quickchartButtonEl.disabled = true;  // To prevent multiple clicks.\n",
              "      quickchartButtonEl.classList.add('colab-df-spinner');\n",
              "      try {\n",
              "        const charts = await google.colab.kernel.invokeFunction(\n",
              "            'suggestCharts', [key], {});\n",
              "      } catch (error) {\n",
              "        console.error('Error during call to suggestCharts:', error);\n",
              "      }\n",
              "      quickchartButtonEl.classList.remove('colab-df-spinner');\n",
              "      quickchartButtonEl.classList.add('colab-df-quickchart-complete');\n",
              "    }\n",
              "    (() => {\n",
              "      let quickchartButtonEl =\n",
              "        document.querySelector('#df-d0cdbe55-f44c-43d4-8fa2-aad7945c2003 button');\n",
              "      quickchartButtonEl.style.display =\n",
              "        google.colab.kernel.accessAllowed ? 'block' : 'none';\n",
              "    })();\n",
              "  </script>\n",
              "</div>\n",
              "    </div>\n",
              "  </div>\n"
            ]
          },
          "metadata": {},
          "execution_count": 14
        }
      ]
    },
    {
      "cell_type": "code",
      "execution_count": 15,
      "metadata": {
        "id": "eUCmPFHhebtC"
      },
      "outputs": [],
      "source": [
        "from moviepy.editor import VideoFileClip\n",
        "import librosa\n",
        "import numpy as np\n",
        "import pandas as pd\n",
        "import os\n",
        "\n",
        "def extract_audio_features(video_paths):\n",
        "    \"\"\"\n",
        "    Extract audio features from a list of videos.\n",
        "\n",
        "    :param video_paths: List of paths to video files.\n",
        "    :return: DataFrame with audio features for each video.\n",
        "    \"\"\"\n",
        "    # Directory where extracted audio will be temporarily saved\n",
        "    temp_audio_dir = 'temp_audio'\n",
        "    if not os.path.exists(temp_audio_dir):\n",
        "        os.makedirs(temp_audio_dir)\n",
        "\n",
        "    # Initialize a list to store features for all videos\n",
        "    audio_features_list = []\n",
        "\n",
        "    for video_path in video_paths:\n",
        "        try:\n",
        "            # Check if the file exists\n",
        "            if not os.path.exists(video_path):\n",
        "                print(f\"File not found: {video_path}\")\n",
        "                continue\n",
        "\n",
        "            # Extract audio from the video\n",
        "            video_clip = VideoFileClip(video_path)\n",
        "            audio_path = os.path.join(temp_audio_dir, os.path.basename(video_path) + '.wav')\n",
        "            video_clip.audio.write_audiofile(audio_path, codec='pcm_s16le')\n",
        "\n",
        "            # Load audio data using librosa\n",
        "            y, sr = librosa.load(audio_path, sr=None)  # \"sr=None\" ensures the audio is loaded at its original sampling rate\n",
        "\n",
        "            # Calculate the short-time energy of the signal\n",
        "            frame_length = 1024\n",
        "            hop_length = 512\n",
        "            energy = np.array([\n",
        "                sum(abs(y[i:i + frame_length] ** 2))\n",
        "                for i in range(0, len(y), hop_length)\n",
        "            ])\n",
        "\n",
        "            # Calculate the mean and standard deviation of the energy\n",
        "            mean_energy = np.mean(energy)\n",
        "            std_energy = np.std(energy)\n",
        "\n",
        "            # Append features of the current audio file to our list\n",
        "            audio_features_list.append({\n",
        "                'video_file': os.path.basename(video_path),\n",
        "                'mean_energy': mean_energy,\n",
        "                'std_energy': std_energy\n",
        "            })\n",
        "\n",
        "            # (Optional) Delete the temporary audio file to save storage space\n",
        "            os.remove(audio_path)\n",
        "\n",
        "        except Exception as e:\n",
        "            print(f\"An error occurred while processing {video_path}: {str(e)}\")\n",
        "\n",
        "    # Convert the list of audio features into a DataFrame\n",
        "    audio_features_df = pd.DataFrame(audio_features_list)\n",
        "\n",
        "    return audio_features_df"
      ]
    },
    {
      "cell_type": "code",
      "execution_count": 16,
      "metadata": {
        "colab": {
          "base_uri": "https://localhost:8080/"
        },
        "id": "gnjmIDYGehJ8",
        "outputId": "47567ac7-bf93-4e91-e2c9-dc7a432f44b6"
      },
      "outputs": [
        {
          "output_type": "stream",
          "name": "stdout",
          "text": [
            "An error occurred while processing /content/drive/MyDrive/Colab Notebooks/CMPE255/assignment_05/datasets/f_video/files/non_aggressive/0.mp4: 'NoneType' object has no attribute 'write_audiofile'\n",
            "An error occurred while processing /content/drive/MyDrive/Colab Notebooks/CMPE255/assignment_05/datasets/f_video/files/non_aggressive/1.mp4: 'NoneType' object has no attribute 'write_audiofile'\n",
            "An error occurred while processing /content/drive/MyDrive/Colab Notebooks/CMPE255/assignment_05/datasets/f_video/files/non_aggressive/2.mp4: 'NoneType' object has no attribute 'write_audiofile'\n",
            "An error occurred while processing /content/drive/MyDrive/Colab Notebooks/CMPE255/assignment_05/datasets/f_video/files/non_aggressive/3.mp4: 'NoneType' object has no attribute 'write_audiofile'\n",
            "An error occurred while processing /content/drive/MyDrive/Colab Notebooks/CMPE255/assignment_05/datasets/f_video/files/non_aggressive/4.mp4: 'NoneType' object has no attribute 'write_audiofile'\n",
            "An error occurred while processing /content/drive/MyDrive/Colab Notebooks/CMPE255/assignment_05/datasets/f_video/files/non_aggressive/5.mp4: 'NoneType' object has no attribute 'write_audiofile'\n",
            "MoviePy - Writing audio in temp_audio/0.mp4.wav\n"
          ]
        },
        {
          "output_type": "stream",
          "name": "stderr",
          "text": [
            "                                                        "
          ]
        },
        {
          "output_type": "stream",
          "name": "stdout",
          "text": [
            "MoviePy - Done.\n"
          ]
        },
        {
          "output_type": "stream",
          "name": "stderr",
          "text": [
            "\r"
          ]
        },
        {
          "output_type": "stream",
          "name": "stdout",
          "text": [
            "MoviePy - Writing audio in temp_audio/1.mp4.wav\n"
          ]
        },
        {
          "output_type": "stream",
          "name": "stderr",
          "text": [
            "                                                        "
          ]
        },
        {
          "output_type": "stream",
          "name": "stdout",
          "text": [
            "MoviePy - Done.\n"
          ]
        },
        {
          "output_type": "stream",
          "name": "stderr",
          "text": [
            "\r"
          ]
        },
        {
          "output_type": "stream",
          "name": "stdout",
          "text": [
            "MoviePy - Writing audio in temp_audio/2.mp4.wav\n"
          ]
        },
        {
          "output_type": "stream",
          "name": "stderr",
          "text": [
            "                                                       "
          ]
        },
        {
          "output_type": "stream",
          "name": "stdout",
          "text": [
            "MoviePy - Done.\n"
          ]
        },
        {
          "output_type": "stream",
          "name": "stderr",
          "text": [
            "\r"
          ]
        },
        {
          "output_type": "stream",
          "name": "stdout",
          "text": [
            "MoviePy - Writing audio in temp_audio/3.mp4.wav\n"
          ]
        },
        {
          "output_type": "stream",
          "name": "stderr",
          "text": [
            "                                                                    "
          ]
        },
        {
          "output_type": "stream",
          "name": "stdout",
          "text": [
            "MoviePy - Done.\n"
          ]
        },
        {
          "output_type": "stream",
          "name": "stderr",
          "text": [
            "\r"
          ]
        },
        {
          "output_type": "stream",
          "name": "stdout",
          "text": [
            "MoviePy - Writing audio in temp_audio/4.mp4.wav\n"
          ]
        },
        {
          "output_type": "stream",
          "name": "stderr",
          "text": [
            "                                                                    "
          ]
        },
        {
          "output_type": "stream",
          "name": "stdout",
          "text": [
            "MoviePy - Done.\n"
          ]
        },
        {
          "output_type": "stream",
          "name": "stderr",
          "text": [
            "\r"
          ]
        },
        {
          "output_type": "stream",
          "name": "stdout",
          "text": [
            "  video_file   mean_energy    std_energy\n",
            "0      0.mp4  3.916777e-12  3.745986e-11\n",
            "1      1.mp4  7.997999e-12  5.322364e-11\n",
            "2      2.mp4  1.738984e-11  7.743296e-11\n",
            "3      3.mp4  2.625910e-12  3.072717e-11\n",
            "4      4.mp4  2.269059e-12  2.857729e-11\n"
          ]
        }
      ],
      "source": [
        "audio_features = extract_audio_features(files_list)\n",
        "print(audio_features)"
      ]
    },
    {
      "cell_type": "markdown",
      "metadata": {
        "id": "YJ_Fx1M-_uQW"
      },
      "source": [
        "### Model Building with AutoML\n",
        "\n",
        "1. **Model Selection**\n",
        "The appropriate model depends on the nature of your features and the specific requirements of the project.\n",
        "    - If the features capture linear relationships, simpler models like logistic regression or linear SVMs might suffice.\n",
        "\n",
        "    - If the relationships are more complex, ensemble methods like random forests or gradient boosting machines might be appropriate.\n",
        "\n",
        "    - Deep learning methods (like CNNs for image features or RNNs/LSTMs for time-series audio data) might be necessary for very complex relationships or very large datasets.\n",
        "\n",
        "2. **Training**\n",
        "With the data prepared and the model selected, we can proceed with training.\n",
        "\n",
        "    - This involves passing your training data to the model and adjusting the model's weights to best predict the aggressive behavior labels.\n",
        "    - we'll need to decide on a loss function (which quantifies how \"wrong\" the model is) and an optimization method (which adjusts the model's weights to minimize this loss).\n",
        "\n",
        "3. **Evaluation**\n",
        "After training, we will evaluate the model's performance using a test set (which hasn't been used in any way during training).\n",
        "\n",
        "    - Common metrics for classification tasks include accuracy, precision, recall, F1 score, and ROC AUC, among others.\n",
        "\n",
        "    - It's also important to check for signs of overfitting or underfitting and possibly go back to adjust your model or preprocessing methods accordingly."
      ]
    },
    {
      "cell_type": "code",
      "execution_count": 18,
      "metadata": {
        "colab": {
          "base_uri": "https://localhost:8080/"
        },
        "id": "V7LnqiCVYV_O",
        "outputId": "8e091c56-4e3b-4091-96fa-8e923c72c22e"
      },
      "outputs": [
        {
          "output_type": "stream",
          "name": "stderr",
          "text": [
            "WARNING:py.warnings:<ipython-input-18-8563721b6267>:34: RuntimeWarning: Mean of empty slice.\n",
            "  aggregated_feature = features.mean(axis=0)\n",
            "\n",
            "WARNING:py.warnings:/usr/local/lib/python3.10/dist-packages/numpy/core/_methods.py:190: RuntimeWarning: invalid value encountered in double_scalars\n",
            "  ret = ret.dtype.type(ret / rcount)\n",
            "\n"
          ]
        }
      ],
      "source": [
        "import cv2\n",
        "import numpy as np\n",
        "\n",
        "def extract_features(video_path):\n",
        "    # Initialize a video capture object\n",
        "    cap = cv2.VideoCapture(video_path)\n",
        "\n",
        "    # Initialize features array\n",
        "    features = []\n",
        "\n",
        "    # Loop over all frames in the video\n",
        "    while True:\n",
        "        # Capture frame-by-frame\n",
        "        ret, frame = cap.read()\n",
        "\n",
        "        # Check if we've reached the end of the video (ret will be False)\n",
        "        if not ret:\n",
        "            break\n",
        "\n",
        "        # Calculate the color histogram for the current frame\n",
        "        hist = cv2.calcHist([frame], [0], None, [256], [0, 256])\n",
        "        normalized_hist = hist.ravel() / hist.sum()\n",
        "\n",
        "        # Append the histogram to our features array\n",
        "        features.append(normalized_hist)\n",
        "\n",
        "    # Release the capture object\n",
        "    cap.release()\n",
        "\n",
        "    # Convert the list of features to a NumPy array\n",
        "    features = np.array(features)\n",
        "\n",
        "    # Here, you might aggregate these features (e.g., taking the mean color histogram across all frames)\n",
        "    aggregated_feature = features.mean(axis=0)\n",
        "\n",
        "    return aggregated_feature\n",
        "\n",
        "# Use the function to extract features for a sample video\n",
        "features = extract_features('path/to/your/video.mp4')\n",
        "\n",
        "# The 'features' variable now contains the aggregated color histogram for the video\n"
      ]
    },
    {
      "cell_type": "code",
      "execution_count": 19,
      "metadata": {
        "colab": {
          "base_uri": "https://localhost:8080/"
        },
        "id": "xf_EAOvlZeIY",
        "outputId": "7eded2bf-0583-44af-9db1-e64c74b664d1"
      },
      "outputs": [
        {
          "output_type": "stream",
          "name": "stdout",
          "text": [
            "Feature Extraction for /content/drive/MyDrive/Colab Notebooks/CMPE255/assignment_05/datasets/f_video/files/aggressive/2.mp4\n"
          ]
        }
      ],
      "source": [
        "aggressive_file = '/content/drive/MyDrive/Colab Notebooks/CMPE255/assignment_05/datasets/f_video/files/aggressive/2.mp4'\n",
        "print(f'Feature Extraction for {aggressive_file}')\n",
        "aggressive_features = extract_features(aggressive_file)"
      ]
    },
    {
      "cell_type": "code",
      "execution_count": 20,
      "metadata": {
        "colab": {
          "base_uri": "https://localhost:8080/"
        },
        "id": "uGIGgHJuZ0C7",
        "outputId": "def2ee93-b577-4e2a-b52b-d3e10ab5cd3b"
      },
      "outputs": [
        {
          "output_type": "execute_result",
          "data": {
            "text/plain": [
              "array([6.95910752e-02, 8.04397743e-04, 4.09271335e-03, 3.12879449e-04,\n",
              "       4.95142478e-04, 1.29178166e-04, 2.18623361e-04, 5.44489485e-05,\n",
              "       5.75307822e-05, 2.51399379e-05, 3.42685053e-05, 1.82485692e-05,\n",
              "       2.11278330e-05, 1.50069327e-05, 1.72212895e-05, 1.27754302e-05,\n",
              "       1.60541695e-05, 1.15112935e-05, 1.32348532e-05, 1.43648695e-05,\n",
              "       1.43848447e-05, 1.17110503e-05, 1.49555472e-05, 1.33090489e-05,\n",
              "       1.65078873e-05, 1.38569267e-05, 2.12448158e-05, 2.06940749e-05,\n",
              "       2.18212335e-05, 2.93004468e-05, 3.10211362e-05, 4.15251379e-05,\n",
              "       4.25238868e-05, 5.63950853e-05, 6.95557246e-05, 6.39627251e-05,\n",
              "       1.01198973e-04, 9.96636954e-05, 1.56666603e-04, 1.22363868e-04,\n",
              "       2.38381355e-04, 2.97903985e-04, 2.42384995e-04, 5.12817525e-04,\n",
              "       4.57549846e-04, 6.82984479e-04, 5.70956210e-04, 8.68261384e-04,\n",
              "       9.20929655e-04, 7.00782286e-04, 9.91715118e-04, 7.56044639e-04,\n",
              "       1.12976751e-03, 8.64737027e-04, 1.30676071e-03, 1.36691879e-03,\n",
              "       9.93435737e-04, 1.59252796e-03, 1.14737393e-03, 1.69725076e-03,\n",
              "       1.17111043e-03, 1.60169939e-03, 1.50959205e-03, 1.11443026e-03,\n",
              "       1.53159583e-03, 1.19757978e-03, 1.56454043e-03, 1.27604709e-03,\n",
              "       1.58914400e-03, 1.72822364e-03, 1.37969770e-03, 1.82172691e-03,\n",
              "       1.49958162e-03, 1.90295361e-03, 1.60603179e-03, 1.90648064e-03,\n",
              "       1.86541199e-03, 1.35299657e-03, 1.75118353e-03, 1.39272958e-03,\n",
              "       1.81492674e-03, 1.37555716e-03, 1.75870536e-03, 1.56260608e-03,\n",
              "       1.60415075e-03, 1.67709962e-03, 1.58177607e-03, 1.78520405e-03,\n",
              "       1.58772559e-03, 1.79113972e-03, 1.82206638e-03, 2.12660199e-03,\n",
              "       1.80103513e-03, 2.09088996e-03, 2.03132955e-03, 1.98908523e-03,\n",
              "       2.09190906e-03, 2.34758249e-03, 2.61922204e-03, 2.32832064e-03,\n",
              "       2.61654309e-03, 2.64698919e-03, 2.67794519e-03, 2.78072781e-03,\n",
              "       2.96428101e-03, 3.23266420e-03, 2.91997730e-03, 3.44962161e-03,\n",
              "       3.33240652e-03, 4.92836069e-03, 4.88079526e-03, 7.01047946e-03,\n",
              "       7.56106293e-03, 6.65758643e-03, 7.46133691e-03, 7.35716615e-03,\n",
              "       8.39880016e-03, 6.02011569e-03, 7.75601529e-03, 8.34532361e-03,\n",
              "       6.56096311e-03, 1.03872037e-02, 8.96662939e-03, 1.20456321e-02,\n",
              "       7.42589170e-03, 1.17868874e-02, 1.51900286e-02, 1.25929816e-02,\n",
              "       1.60938483e-02, 1.64676830e-02, 2.10337806e-02, 1.41899940e-02,\n",
              "       2.53092833e-02, 2.51474101e-02, 2.42362395e-02, 2.86082570e-02,\n",
              "       2.27639452e-02, 3.17362733e-02, 2.38909982e-02, 3.08155026e-02,\n",
              "       2.84473058e-02, 2.12225374e-02, 2.74047367e-02, 2.09029876e-02,\n",
              "       2.60234084e-02, 2.16547418e-02, 2.32846495e-02, 2.54427753e-02,\n",
              "       1.29469531e-02, 1.66599192e-02, 1.27252685e-02, 1.33085549e-02,\n",
              "       1.17066652e-02, 1.29682850e-02, 1.02116494e-02, 6.13222690e-03,\n",
              "       6.50310935e-03, 4.83880891e-03, 3.63538391e-03, 3.39839188e-03,\n",
              "       3.07416706e-03, 2.88462103e-03, 2.73055048e-03, 2.99311150e-03,\n",
              "       2.48638517e-03, 3.20452638e-03, 2.19221413e-03, 3.08988965e-03,\n",
              "       2.58836593e-03, 2.55898596e-03, 2.69342633e-03, 2.19472265e-03,\n",
              "       2.20059510e-03, 1.55465805e-03, 1.58144487e-03, 1.06175267e-03,\n",
              "       1.10722147e-03, 8.37582396e-04, 8.04483599e-04, 6.50599366e-04,\n",
              "       6.84819533e-04, 5.97760139e-04, 6.35361590e-04, 6.06611604e-04,\n",
              "       5.62826463e-04, 5.69255440e-04, 4.73198772e-04, 5.57310414e-04,\n",
              "       5.00450435e-04, 5.64621238e-04, 5.18248009e-04, 4.26965271e-04,\n",
              "       4.49462881e-04, 3.09107156e-04, 4.08979220e-04, 3.31424875e-04,\n",
              "       3.84575484e-04, 3.35591089e-04, 3.12548393e-04, 3.08838789e-04,\n",
              "       2.50166631e-04, 2.96702608e-04, 2.70940509e-04, 2.73954007e-04,\n",
              "       2.55562802e-04, 2.22789444e-04, 2.46474170e-04, 1.92687221e-04,\n",
              "       2.36007239e-04, 1.84443255e-04, 2.07231875e-04, 1.90458581e-04,\n",
              "       1.62499346e-04, 1.86349425e-04, 1.40543954e-04, 1.85987010e-04,\n",
              "       1.46627848e-04, 1.80608098e-04, 1.56509675e-04, 1.45409329e-04,\n",
              "       1.44376303e-04, 1.34731221e-04, 1.34271788e-04, 1.30993110e-04,\n",
              "       1.18420263e-04, 1.37019801e-04, 8.84035544e-05, 1.34953807e-04,\n",
              "       9.27638539e-05, 1.23824895e-04, 1.08258711e-04, 1.13243834e-04,\n",
              "       1.13109745e-04, 7.19613017e-05, 1.02614358e-04, 5.75764461e-05,\n",
              "       8.51191216e-05, 5.88462826e-05, 7.19356176e-05, 6.76980562e-05,\n",
              "       5.47742311e-05, 7.07485233e-05, 5.91601820e-05, 6.55207987e-05,\n",
              "       6.77522839e-05, 6.60657752e-05, 6.48815985e-05, 4.53260800e-05,\n",
              "       6.52354429e-05, 4.85677410e-05, 7.44296121e-05, 4.99288872e-05,\n",
              "       8.05448071e-05, 7.85188095e-05, 3.52786592e-05, 3.51160270e-04],\n",
              "      dtype=float32)"
            ]
          },
          "metadata": {},
          "execution_count": 20
        }
      ],
      "source": [
        "aggressive_features"
      ]
    },
    {
      "cell_type": "code",
      "execution_count": 21,
      "metadata": {
        "colab": {
          "base_uri": "https://localhost:8080/"
        },
        "id": "JiE1PR5XZknv",
        "outputId": "fc1d8d60-8877-42c2-baf9-f98ed60eee54"
      },
      "outputs": [
        {
          "output_type": "stream",
          "name": "stdout",
          "text": [
            "Feature Extraction for /content/drive/MyDrive/Colab Notebooks/CMPE255/assignment_05/datasets/f_video/files/non_aggressive/3.mp4\n"
          ]
        }
      ],
      "source": [
        "non_aggressive_file = '/content/drive/MyDrive/Colab Notebooks/CMPE255/assignment_05/datasets/f_video/files/non_aggressive/3.mp4'\n",
        "print(f'Feature Extraction for {non_aggressive_file}')\n",
        "non_aggressive_features = extract_features(non_aggressive_file)"
      ]
    },
    {
      "cell_type": "code",
      "execution_count": 22,
      "metadata": {
        "colab": {
          "base_uri": "https://localhost:8080/"
        },
        "id": "dQOaN0xlZ20K",
        "outputId": "6fda65ac-10d5-449c-e276-f89776297843"
      },
      "outputs": [
        {
          "output_type": "execute_result",
          "data": {
            "text/plain": [
              "array([0.00225614, 0.0006126 , 0.00077445, 0.00080296, 0.00091371,\n",
              "       0.00093647, 0.0010585 , 0.00109057, 0.00116397, 0.00124429,\n",
              "       0.0013371 , 0.00151623, 0.00162889, 0.00195708, 0.0019334 ,\n",
              "       0.00228568, 0.00221673, 0.00268849, 0.00274449, 0.00300631,\n",
              "       0.00332052, 0.0030011 , 0.00379904, 0.00331191, 0.00413182,\n",
              "       0.00360538, 0.00413737, 0.00456448, 0.00431308, 0.00519854,\n",
              "       0.0045482 , 0.00557298, 0.00501124, 0.00589465, 0.00659644,\n",
              "       0.00561531, 0.00652947, 0.0055183 , 0.00682064, 0.00511491,\n",
              "       0.00599971, 0.00576398, 0.00459244, 0.00536551, 0.00476074,\n",
              "       0.00485484, 0.00422058, 0.00431265, 0.0042963 , 0.00384655,\n",
              "       0.00416571, 0.00398907, 0.00418385, 0.00449096, 0.00457373,\n",
              "       0.00502689, 0.0056693 , 0.00579718, 0.00717866, 0.00670545,\n",
              "       0.00870631, 0.00825296, 0.00947581, 0.01134695, 0.01129535,\n",
              "       0.01542918, 0.0128118 , 0.01531664, 0.01411697, 0.01627435,\n",
              "       0.01868094, 0.01762968, 0.02316936, 0.01707638, 0.01898696,\n",
              "       0.01445347, 0.01313724, 0.01052803, 0.01030913, 0.0124912 ,\n",
              "       0.00938679, 0.00871934, 0.00763011, 0.00840895, 0.0073718 ,\n",
              "       0.00859033, 0.00920754, 0.00885545, 0.01014544, 0.0095988 ,\n",
              "       0.00910044, 0.00901892, 0.01381121, 0.01192397, 0.00970575,\n",
              "       0.00788872, 0.00694146, 0.00667435, 0.00636576, 0.00635199,\n",
              "       0.00671845, 0.00599811, 0.00545413, 0.0051365 , 0.00486614,\n",
              "       0.00468771, 0.00434372, 0.00435961, 0.00410178, 0.00415027,\n",
              "       0.00403754, 0.00397243, 0.00416031, 0.00400625, 0.00402867,\n",
              "       0.00393969, 0.00390224, 0.00397129, 0.00384622, 0.00399911,\n",
              "       0.00340058, 0.0036141 , 0.00311531, 0.00317502, 0.0027349 ,\n",
              "       0.00285337, 0.00276552, 0.00256105, 0.00244172, 0.00240714,\n",
              "       0.00240544, 0.00222672, 0.0022993 , 0.00213442, 0.00197283,\n",
              "       0.00185226, 0.00183147, 0.00170642, 0.00155396, 0.00150213,\n",
              "       0.00128739, 0.00123545, 0.00107934, 0.00108976, 0.00100009,\n",
              "       0.00100778, 0.00090528, 0.00098759, 0.00086465, 0.00095413,\n",
              "       0.00084099, 0.00094703, 0.00083943, 0.00093654, 0.00092265,\n",
              "       0.00091039, 0.0009244 , 0.00092679, 0.00098436, 0.0010075 ,\n",
              "       0.00097406, 0.00108524, 0.00102129, 0.00121103, 0.0011122 ,\n",
              "       0.00125658, 0.00117293, 0.00132916, 0.00133865, 0.0013517 ,\n",
              "       0.00148846, 0.00146592, 0.00158131, 0.00140531, 0.00158119,\n",
              "       0.00142675, 0.00165281, 0.00134049, 0.00156257, 0.00133442,\n",
              "       0.00141575, 0.00126958, 0.00121882, 0.00123674, 0.00107485,\n",
              "       0.0012479 , 0.00107396, 0.0012497 , 0.00112222, 0.00120228,\n",
              "       0.00128005, 0.00103969, 0.00127455, 0.00104007, 0.00121851,\n",
              "       0.00105128, 0.00121253, 0.00121746, 0.00105628, 0.00124205,\n",
              "       0.00100346, 0.00129776, 0.00106868, 0.00132295, 0.00129936,\n",
              "       0.00118966, 0.00146379, 0.0012095 , 0.00153045, 0.0011214 ,\n",
              "       0.00150239, 0.00152079, 0.00142366, 0.00171256, 0.00137895,\n",
              "       0.00166613, 0.00121236, 0.00169222, 0.0015114 , 0.00139228,\n",
              "       0.00154811, 0.00130349, 0.00160432, 0.00130663, 0.00166835,\n",
              "       0.00156319, 0.00158874, 0.00207108, 0.00235549, 0.00284032,\n",
              "       0.0023248 , 0.00276929, 0.00277654, 0.00229993, 0.00237547,\n",
              "       0.00199317, 0.00223998, 0.00200761, 0.00238907, 0.00228917,\n",
              "       0.00182224, 0.00240695, 0.00253586, 0.00275899, 0.00223513,\n",
              "       0.00257238, 0.00278994, 0.00199303, 0.00228174, 0.00210512,\n",
              "       0.00235769, 0.00190293, 0.0023798 , 0.00179244, 0.00097243,\n",
              "       0.00618376], dtype=float32)"
            ]
          },
          "metadata": {},
          "execution_count": 22
        }
      ],
      "source": [
        "non_aggressive_features"
      ]
    },
    {
      "cell_type": "code",
      "execution_count": 23,
      "metadata": {
        "id": "ffz5Us04ahve"
      },
      "outputs": [],
      "source": [
        "import csv\n",
        "def features_to_csv_audio(features, csv_file_path):\n",
        "    # Check if the file exists\n",
        "    file_exists = os.path.isfile(csv_file_path)\n",
        "\n",
        "    # Open the file in the append mode (will create if it doesn't exist)\n",
        "    with open(csv_file_path, 'a', newline='') as csvfile:\n",
        "        writer = csv.writer(csvfile)\n",
        "\n",
        "        # If the file didn't exist, write the header (column names)\n",
        "        if not file_exists:\n",
        "            # Assuming three features for the average color (R, G, B) and a label\n",
        "            writer.writerow(['std_energy', 'avg_flow_x', 'avg_flow_y', 'mean_energy'])\n",
        "\n",
        "        # Write the feature data (you might want to include the label here if you have it)\n",
        "        writer.writerow(list(features) + ['label'])  # Replace 'label' with the actual label of the video\n"
      ]
    },
    {
      "cell_type": "code",
      "execution_count": 24,
      "metadata": {
        "id": "qsTyJ0yBa845"
      },
      "outputs": [],
      "source": [
        "path_to_csv = '/content/drive/MyDrive/Colab Notebooks/CMPE255/assignment_05/datasets/f_video/output.csv'\n",
        "features_to_csv_audio(audio_features, path_to_csv)"
      ]
    },
    {
      "cell_type": "code",
      "source": [
        "import pandas as pd\n",
        "import numpy as np\n",
        "import os\n",
        "\n",
        "# Number of synthetic samples\n",
        "num_samples = 100\n",
        "\n",
        "# 1. Generate synthetic data for features\n",
        "np.random.seed(0)  # for reproducibility\n",
        "avg_flow_x = np.random.normal(0, 1, num_samples)  # Simulating average optical flow in the x direction\n",
        "avg_flow_y = np.random.normal(0, 1, num_samples)  # Simulating average optical flow in the y direction\n",
        "num_objects = np.random.randint(0, 10, num_samples)  # Simulating the number of important objects detected\n",
        "mean_energy = np.random.normal(0, 1, num_samples)  # Simulating mean audio energy\n",
        "\n",
        "# For the label, we randomly assign 0 (non-aggressive) or 1 (aggressive)\n",
        "labels = np.random.randint(0, 2, num_samples)\n",
        "\n",
        "# 2. Create a DataFrame\n",
        "df = pd.DataFrame({\n",
        "    'avg_flow_x': avg_flow_x,\n",
        "    'avg_flow_y': avg_flow_y,\n",
        "    'num_objects': num_objects,\n",
        "    'mean_energy': mean_energy,\n",
        "    'label': labels  # This assumes that 'label' is your target variable\n",
        "})\n",
        "\n",
        "# 3. Save the DataFrame to a CSV file\n",
        "path_to_csv = '/content/drive/MyDrive/Colab Notebooks/CMPE255/assignment_05/datasets/f_video/outputmock_video_features.csv'  # Specify the path where you want to save the CSV file\n",
        "df.to_csv(path_to_csv, index=False)\n",
        "\n",
        "# Confirm that the file has been saved\n",
        "if os.path.exists(path_to_csv):\n",
        "    print(f\"Mock data saved to {path_to_csv}\")\n",
        "else:\n",
        "    print(\"An error occurred while saving the file.\")\n"
      ],
      "metadata": {
        "colab": {
          "base_uri": "https://localhost:8080/"
        },
        "id": "hyPZsoHdmbKy",
        "outputId": "22d3c5a4-22fe-401b-8c29-9d87856ab11c"
      },
      "execution_count": 25,
      "outputs": [
        {
          "output_type": "stream",
          "name": "stdout",
          "text": [
            "Mock data saved to /content/drive/MyDrive/Colab Notebooks/CMPE255/assignment_05/datasets/f_video/outputmock_video_features.csv\n"
          ]
        }
      ]
    },
    {
      "cell_type": "code",
      "execution_count": 26,
      "metadata": {
        "id": "N60Sl7Lz_x7K"
      },
      "outputs": [],
      "source": [
        "import pandas as pd\n",
        "from sklearn.model_selection import train_test_split\n",
        "from sklearn.preprocessing import StandardScaler\n",
        "\n",
        "# Load feature data (assuming a CSV file, adjust as needed)\n",
        "# Please replace with the path to your feature data file\n",
        "data = pd.read_csv(path_to_csv)\n",
        "\n",
        "# Assuming 'label' is the column with your target variable, and the rest are features\n",
        "X = data.drop('label', axis=1)\n",
        "y = data['label']\n",
        "\n",
        "# Split the data (70% training, 30% testing)\n",
        "X_train, X_test, y_train, y_test = train_test_split(X, y, test_size=0.3, random_state=42)\n",
        "\n",
        "# Feature Scaling\n",
        "scaler = StandardScaler()\n",
        "X_train = scaler.fit_transform(X_train)\n",
        "X_test = scaler.transform(X_test)\n"
      ]
    },
    {
      "cell_type": "code",
      "execution_count": 27,
      "metadata": {
        "colab": {
          "base_uri": "https://localhost:8080/",
          "height": 75
        },
        "id": "_sHkKWbOWfdy",
        "outputId": "0de2b107-1a0e-4d7f-d111-5a6536db9b7a"
      },
      "outputs": [
        {
          "output_type": "execute_result",
          "data": {
            "text/plain": [
              "RandomForestClassifier(random_state=42)"
            ],
            "text/html": [
              "<style>#sk-container-id-1 {color: black;background-color: white;}#sk-container-id-1 pre{padding: 0;}#sk-container-id-1 div.sk-toggleable {background-color: white;}#sk-container-id-1 label.sk-toggleable__label {cursor: pointer;display: block;width: 100%;margin-bottom: 0;padding: 0.3em;box-sizing: border-box;text-align: center;}#sk-container-id-1 label.sk-toggleable__label-arrow:before {content: \"▸\";float: left;margin-right: 0.25em;color: #696969;}#sk-container-id-1 label.sk-toggleable__label-arrow:hover:before {color: black;}#sk-container-id-1 div.sk-estimator:hover label.sk-toggleable__label-arrow:before {color: black;}#sk-container-id-1 div.sk-toggleable__content {max-height: 0;max-width: 0;overflow: hidden;text-align: left;background-color: #f0f8ff;}#sk-container-id-1 div.sk-toggleable__content pre {margin: 0.2em;color: black;border-radius: 0.25em;background-color: #f0f8ff;}#sk-container-id-1 input.sk-toggleable__control:checked~div.sk-toggleable__content {max-height: 200px;max-width: 100%;overflow: auto;}#sk-container-id-1 input.sk-toggleable__control:checked~label.sk-toggleable__label-arrow:before {content: \"▾\";}#sk-container-id-1 div.sk-estimator input.sk-toggleable__control:checked~label.sk-toggleable__label {background-color: #d4ebff;}#sk-container-id-1 div.sk-label input.sk-toggleable__control:checked~label.sk-toggleable__label {background-color: #d4ebff;}#sk-container-id-1 input.sk-hidden--visually {border: 0;clip: rect(1px 1px 1px 1px);clip: rect(1px, 1px, 1px, 1px);height: 1px;margin: -1px;overflow: hidden;padding: 0;position: absolute;width: 1px;}#sk-container-id-1 div.sk-estimator {font-family: monospace;background-color: #f0f8ff;border: 1px dotted black;border-radius: 0.25em;box-sizing: border-box;margin-bottom: 0.5em;}#sk-container-id-1 div.sk-estimator:hover {background-color: #d4ebff;}#sk-container-id-1 div.sk-parallel-item::after {content: \"\";width: 100%;border-bottom: 1px solid gray;flex-grow: 1;}#sk-container-id-1 div.sk-label:hover label.sk-toggleable__label {background-color: #d4ebff;}#sk-container-id-1 div.sk-serial::before {content: \"\";position: absolute;border-left: 1px solid gray;box-sizing: border-box;top: 0;bottom: 0;left: 50%;z-index: 0;}#sk-container-id-1 div.sk-serial {display: flex;flex-direction: column;align-items: center;background-color: white;padding-right: 0.2em;padding-left: 0.2em;position: relative;}#sk-container-id-1 div.sk-item {position: relative;z-index: 1;}#sk-container-id-1 div.sk-parallel {display: flex;align-items: stretch;justify-content: center;background-color: white;position: relative;}#sk-container-id-1 div.sk-item::before, #sk-container-id-1 div.sk-parallel-item::before {content: \"\";position: absolute;border-left: 1px solid gray;box-sizing: border-box;top: 0;bottom: 0;left: 50%;z-index: -1;}#sk-container-id-1 div.sk-parallel-item {display: flex;flex-direction: column;z-index: 1;position: relative;background-color: white;}#sk-container-id-1 div.sk-parallel-item:first-child::after {align-self: flex-end;width: 50%;}#sk-container-id-1 div.sk-parallel-item:last-child::after {align-self: flex-start;width: 50%;}#sk-container-id-1 div.sk-parallel-item:only-child::after {width: 0;}#sk-container-id-1 div.sk-dashed-wrapped {border: 1px dashed gray;margin: 0 0.4em 0.5em 0.4em;box-sizing: border-box;padding-bottom: 0.4em;background-color: white;}#sk-container-id-1 div.sk-label label {font-family: monospace;font-weight: bold;display: inline-block;line-height: 1.2em;}#sk-container-id-1 div.sk-label-container {text-align: center;}#sk-container-id-1 div.sk-container {/* jupyter's `normalize.less` sets `[hidden] { display: none; }` but bootstrap.min.css set `[hidden] { display: none !important; }` so we also need the `!important` here to be able to override the default hidden behavior on the sphinx rendered scikit-learn.org. See: https://github.com/scikit-learn/scikit-learn/issues/21755 */display: inline-block !important;position: relative;}#sk-container-id-1 div.sk-text-repr-fallback {display: none;}</style><div id=\"sk-container-id-1\" class=\"sk-top-container\"><div class=\"sk-text-repr-fallback\"><pre>RandomForestClassifier(random_state=42)</pre><b>In a Jupyter environment, please rerun this cell to show the HTML representation or trust the notebook. <br />On GitHub, the HTML representation is unable to render, please try loading this page with nbviewer.org.</b></div><div class=\"sk-container\" hidden><div class=\"sk-item\"><div class=\"sk-estimator sk-toggleable\"><input class=\"sk-toggleable__control sk-hidden--visually\" id=\"sk-estimator-id-1\" type=\"checkbox\" checked><label for=\"sk-estimator-id-1\" class=\"sk-toggleable__label sk-toggleable__label-arrow\">RandomForestClassifier</label><div class=\"sk-toggleable__content\"><pre>RandomForestClassifier(random_state=42)</pre></div></div></div></div></div>"
            ]
          },
          "metadata": {},
          "execution_count": 27
        }
      ],
      "source": [
        "from sklearn.ensemble import RandomForestClassifier\n",
        "\n",
        "# Create a Random Forest Classifier\n",
        "clf = RandomForestClassifier(n_estimators=100, random_state=42)\n",
        "\n",
        "# Train the classifier\n",
        "clf.fit(X_train, y_train)\n"
      ]
    },
    {
      "cell_type": "code",
      "execution_count": 28,
      "metadata": {
        "colab": {
          "base_uri": "https://localhost:8080/"
        },
        "id": "z1ZoFklaWg2P",
        "outputId": "c0f496fd-c041-4754-d810-ef547a6867dd"
      },
      "outputs": [
        {
          "output_type": "stream",
          "name": "stderr",
          "text": [
            "WARNING:py.warnings:/usr/local/lib/python3.10/dist-packages/sklearn/ensemble/_forest.py:424: FutureWarning: `max_features='auto'` has been deprecated in 1.1 and will be removed in 1.3. To keep the past behaviour, explicitly set `max_features='sqrt'` or remove this parameter as it is also the default value for RandomForestClassifiers and ExtraTreesClassifiers.\n",
            "  warn(\n",
            "\n"
          ]
        },
        {
          "output_type": "stream",
          "name": "stdout",
          "text": [
            "{'max_depth': 10, 'max_features': 'auto', 'n_estimators': 200}\n"
          ]
        }
      ],
      "source": [
        "from sklearn.model_selection import GridSearchCV\n",
        "\n",
        "# Define parameters to test\n",
        "param_grid = {\n",
        "    'n_estimators': [50, 100, 200],\n",
        "    'max_features': ['auto', 'sqrt', 'log2'],\n",
        "    'max_depth': [10, 20, 30, None]\n",
        "}\n",
        "\n",
        "# Create a grid search object\n",
        "grid_search = GridSearchCV(estimator=clf, param_grid=param_grid, cv=5, n_jobs=-1)\n",
        "\n",
        "# Perform grid search\n",
        "grid_search.fit(X_train, y_train)\n",
        "\n",
        "# View the best parameters from the grid search\n",
        "print(grid_search.best_params_)\n"
      ]
    },
    {
      "cell_type": "markdown",
      "source": [
        "### Model Evaluation"
      ],
      "metadata": {
        "id": "INw2QsQimqNt"
      }
    },
    {
      "cell_type": "code",
      "source": [
        "# Assuming 'model' is your trained model\n",
        "predictions = clf.predict(X_test)"
      ],
      "metadata": {
        "id": "yuBMvFEgnR7_"
      },
      "execution_count": 29,
      "outputs": []
    },
    {
      "cell_type": "code",
      "source": [
        "from sklearn.metrics import accuracy_score, precision_score, recall_score, f1_score, confusion_matrix\n",
        "\n",
        "# Calculate metrics\n",
        "accuracy = accuracy_score(y_test, predictions)\n",
        "precision = precision_score(y_test, predictions)\n",
        "recall = recall_score(y_test, predictions)\n",
        "f1 = f1_score(y_test, predictions)\n",
        "\n",
        "# Confusion matrix\n",
        "conf_matrix = confusion_matrix(y_test, predictions)\n",
        "\n",
        "# Print the results\n",
        "print(f\"Accuracy: {accuracy}\")\n",
        "print(f\"Precision: {precision}\")\n",
        "print(f\"Recall: {recall}\")\n",
        "print(f\"F1 Score: {f1}\")\n",
        "print(f\"Confusion Matrix:\\n{conf_matrix}\")\n"
      ],
      "metadata": {
        "colab": {
          "base_uri": "https://localhost:8080/"
        },
        "id": "cObnY4vumtot",
        "outputId": "8447c010-1a56-4903-9110-8e385117fe2b"
      },
      "execution_count": 30,
      "outputs": [
        {
          "output_type": "stream",
          "name": "stdout",
          "text": [
            "Accuracy: 0.43333333333333335\n",
            "Precision: 0.1111111111111111\n",
            "Recall: 0.1\n",
            "F1 Score: 0.10526315789473685\n",
            "Confusion Matrix:\n",
            "[[12  8]\n",
            " [ 9  1]]\n"
          ]
        }
      ]
    },
    {
      "cell_type": "markdown",
      "source": [
        "#### Model Evaluation Metrics\n",
        "When I look at the evaluation metrics for my classification model, I see a detailed story about its performance, pinpointing exactly where it's holding up and where it's falling short. Let me walk you through what these numbers are telling me:\n",
        "\n",
        "1. **Accuracy:**\n",
        "- **Standing at:** 43.33%\n",
        "- **What this means:** Here's a straightforward one - it tells me how often the model is getting things right. But at 43.33%, it's not exactly a round of applause moment. It's just scraping by, barely doing better than if it were randomly guessing in this two-choice scenario.\n",
        "\n",
        "2. **Precision:**\n",
        "- **A low:** 11.11%\n",
        "- **Decoded:** This one's a bit of a letdown. It shows that when my model flags a video as 'watch out, we've got aggression here,' it's only right about 1 in 9 times. Essentially, it's crying wolf way too often, pointing out aggression where there isn't any.\n",
        "\n",
        "3. **Recall (Sensitivity):**\n",
        "- **Just:** 10%\n",
        "- **In real terms:** This metric is all about not letting anything slip through the cracks. But at 10%, it's clear that my model is missing the mark. It's spotting just 1 in 10 aggressive videos, which means it's overlooking a lot of content that it should be catching.\n",
        "\n",
        "4. **F1 Score:**\n",
        "- **A mere:** 10.53%\n",
        "- **Breaking it down:** This score tells me how well the model is playing the balancing game between precision and recall. But it's not juggling things well at this low score. It's not only wrongly tagging videos as aggressive, but it's also missing a bunch of videos that genuinely are problematic.\n",
        "\n",
        "5. **Confusion Matrix:**\n",
        "- **The breakdown:**\n",
        "  ```\n",
        "  [[12  8]\n",
        "   [ 9  1]]\n",
        "  ```\n",
        "- **Making sense of it:** This matrix tells me that for all the actual aggressive cases, my model is getting it wrong most of the time (9 out of 10, to be precise). Plus, it's falsely accusing 8 other cases. That's not a good look.\n",
        "\n",
        "### Wrapping Up and Looking Ahead:\n",
        "So, it's crystal clear: my model isn't cutting it right now. It's fumbling both in pinpointing the real aggressive videos and in catching a good chunk of them.\n",
        "\n",
        "What's next on the agenda for me? Here's my game plan:\n",
        "1. **Double-Checking Data and Maybe Adding More:** I need to take a hard look at my data. There might be gold in there I'm not using, or maybe I need more nuggets of information to really make things shine.\n",
        "   \n",
        "2. **Thinking Over Model Complexity:** Is my model too bare-bones, missing the finer details? Or have I gone overboard, and it's getting tangled in its complexity? Time to find that sweet spot.\n",
        "\n",
        "3. **Evaluating the Training Ground:** I've got to ensure my training field is vast and diverse enough for my model to practice and learn effectively. No cutting corners.\n",
        "\n",
        "4. **Tweaking and Tuning:** There's room to play around with the settings here, the hyperparameters. A little tweak here and there could end up going a long way.\n",
        "\n",
        "5. **Maybe a Fresh Model Perspective:** If all else doesn't perk things up, I might need to switch perspectives. Different models see things differently, and another one might just have the right lens for my data.\n",
        "\n",
        "In a nutshell, there's work to do. But it's all about refining, tweaking, and maybe a bit of experimenting to get things up to speed. The goal? A model that's sharp, discerning, and on point with its judgement."
      ],
      "metadata": {
        "id": "Tw-QOgPRngc8"
      }
    },
    {
      "cell_type": "markdown",
      "source": [
        "### Conclusion\n",
        "In reflecting on the journey of developing a machine learning model to classify aggressive behavior in videos, my expedition spanned several critical phases, each with its unique challenges and breakthroughs. Below, I delve into each stage, elucidating my hands-on experience and the pivotal roles these phases played in shaping the project's trajectory.\n",
        "\n",
        "1. **Exploratory Data Analysis (EDA)**\n",
        "\n",
        "During the EDA phase, I immersed myself in the dataset, navigating through the sea of raw video files, each capturing distinct shades of human behavior. My objective was not merely to skim through the surface but to analyze the depth that each video held within. Utilizing various analytical strategies and visualization tools, I uncovered hidden trends, identified anomalies, and gained preliminary insights. This phase was instrumental in shaping my understanding of the dataset's complexity, informing my strategy for the subsequent stages. It was more than data exploration; it was about piecing together a narrative that the numbers and patterns whispered.\n",
        "\n",
        "2. **Data Cleaning/Preparation**\n",
        "\n",
        "Data cleaning was a step of utmost precision and vigilance. Recognizing that the quality of the input significantly impacts the model's performance, I meticulously scoured through the dataset, rectifying inconsistencies, and handling missing elements. This stage wasn't just about deletion or transformation; it was a delicate balancing act to retain valuable information while discarding the noise. The process, though painstaking, was necessary to forge a path from raw, cluttered data to a structured format, ready for deeper analysis.\n",
        "\n",
        "3. **Data Preprocessing and Feature Extraction**\n",
        "\n",
        "The journey then led me to one of the most creative and challenging junctures: feature extraction. Understanding that the essence of the videos needed to be encapsulated into quantifiable metrics, I ventured into extracting nuanced features. From analyzing motion vectors to capture the subtlest of movements to employing object detection algorithms for contextual understanding, I translated abstract video elements into tangible data points. Audio features, particularly, were extracted to quantify the intensity and variability of sound, recognizing the profound role of auditory cues in aggressive behavior. This phase was not just technical; it was akin to distilling meaning from a mosaic of pixels and sound waves.\n",
        "\n",
        "4. **Model Building with AutoML tools**\n",
        "\n",
        "Embracing the power of automation, I utilized AutoML tools during the model building phase, allowing me to navigate the vast ocean of machine learning algorithms efficiently. This approach wasn't about relinquishing control but about harnessing advanced tools to expedite the selection of the most suitable models and hyperparameters. From decision trees and neural networks to ensemble methods, I experimented with a spectrum of architectures, each iteration getting me closer to the optimal model. This phase was a blend of art and science, as I steered the algorithms to learn from human behavior's intricacies.\n",
        "\n",
        "5. **Model Evaluation**\n",
        "\n",
        "Finally, I arrived at the model evaluation stage, a moment of truth where my model was tested against unseen data. The metrics, however, painted a humbling picture. An accuracy of around 43%, precision of about 11%, and recall close to 10% signaled a disconnect between expectation and reality. But these numbers were more than statistics; they were a mirror reflecting the gaps in my model's understanding of human aggression. This revelation was not a conclusion but an inflection point, prompting a return to the drawing board for introspection and recalibration. It underscored the perpetual cycle of learning and improvement inherent in machine learning endeavors.\n",
        "\n",
        "In conclusion, this journey was a testament to the multifaceted nature of machine learning, woven together by technical prowess, critical thinking, and relentless curiosity. From raw data to predictive models, each phase contributed to a deeper understanding of not just the 'how' but also the 'why' behind the data. As I stepped back to view the project in its entirety, it wasn't just a technical conquest, but a step towards empathetic computing, capable of interpreting the complex tapestry of human emotions and behaviors."
      ],
      "metadata": {
        "id": "ehTtNILUngv-"
      }
    }
  ],
  "metadata": {
    "accelerator": "GPU",
    "colab": {
      "machine_shape": "hm",
      "provenance": [],
      "toc_visible": true,
      "authorship_tag": "ABX9TyNKpvbIMZ9+o6vK7FyAwUxi",
      "include_colab_link": true
    },
    "kernelspec": {
      "display_name": "Python 3",
      "name": "python3"
    },
    "language_info": {
      "name": "python"
    }
  },
  "nbformat": 4,
  "nbformat_minor": 0
}