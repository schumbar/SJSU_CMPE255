{
  "nbformat": 4,
  "nbformat_minor": 0,
  "metadata": {
    "colab": {
      "provenance": [],
      "toc_visible": true,
      "authorship_tag": "ABX9TyPMa3SFaH5THHpuW1sd6Crr",
      "include_colab_link": true
    },
    "kernelspec": {
      "name": "python3",
      "display_name": "Python 3"
    },
    "language_info": {
      "name": "python"
    }
  },
  "cells": [
    {
      "cell_type": "markdown",
      "metadata": {
        "id": "view-in-github",
        "colab_type": "text"
      },
      "source": [
        "<a href=\"https://colab.research.google.com/github/schumbar/SJSU_CMPE255/blob/main/assignment_05/b_timeseries_data.ipynb\" target=\"_parent\"><img src=\"https://colab.research.google.com/assets/colab-badge.svg\" alt=\"Open In Colab\"/></a>"
      ]
    },
    {
      "cell_type": "markdown",
      "source": [
        "# Assignment 05: Data preparation and Processing - Time Series Data\n",
        "## Time Series Data\n",
        "By Shawn Chumbar\n",
        "  \n",
        "Please note that I have used ChatGPT to assist me with this assignment.\n",
        "\n",
        "[Dataset Link](https://www.kaggle.com/datasets/ankitaguha/covid19-timeseries)"
      ],
      "metadata": {
        "id": "YpSbanmPVlu6"
      }
    },
    {
      "cell_type": "markdown",
      "source": [
        "**Tasks:**\n",
        "\n",
        "For each of the data set types, we must perform the following tasks:\n",
        "1. Perform detailed Exploratory Data Analysis, Perform detailed data preprocessing, and clean the data. (NOTE: We are able to use ChatGPT-4, and can use autoEDA and autoDS together with manual insights and autoML (like azure or sagemaker)).\n",
        "2. Perform clustering and anomaly eliminations within the data sets. Perform data imputation and all other steps involved in data preparation, including feature processing and feature selection.\n",
        "3. Build various ML models using AutoML including ensemble models.\n",
        "4. Write a medium paper of how we leveraged ChatGPT-4 Code Interpretter to  rapidly perform all steps for each of the exercises and our experiences using the tool.  \n",
        "5. Submit a link to the medium article.\n",
        "\n",
        "\n",
        "The steps above must be done for the following type of datasets (mixture of imbalanced and balanced data sets):\n",
        "1. Tabular diverse set of data types (i.e. NYC Taxi)\n",
        "2. Timeseries\n",
        "3. Spatio Temporal\n",
        "4. Image (i.e. Kerascv or any other popular package)\n",
        "5. Audio\n",
        "6. Video (Action Recognition)\n",
        "7. Graph data set (i.e. citation, etc.)"
      ],
      "metadata": {
        "id": "Hi205GlaVvmY"
      }
    },
    {
      "cell_type": "markdown",
      "source": [
        "### Setup\n",
        "This section should be ran before anything else runs."
      ],
      "metadata": {
        "id": "rZOK5n23bDwh"
      }
    },
    {
      "cell_type": "code",
      "source": [
        "from google.colab import drive\n",
        "drive.mount('/content/drive')"
      ],
      "metadata": {
        "colab": {
          "base_uri": "https://localhost:8080/"
        },
        "id": "Z4kmskUhbHqe",
        "outputId": "cf672fe5-35e7-431d-c2dc-477cdeeb2916"
      },
      "execution_count": null,
      "outputs": [
        {
          "output_type": "stream",
          "name": "stdout",
          "text": [
            "Mounted at /content/drive\n"
          ]
        }
      ]
    },
    {
      "cell_type": "code",
      "source": [
        "!pip install matplotlib\n",
        "!pip install seaborn"
      ],
      "metadata": {
        "colab": {
          "base_uri": "https://localhost:8080/"
        },
        "id": "n3Ah0USNa-Eq",
        "outputId": "0ef1aaed-3b73-4504-8fa9-96ad4c1eab32"
      },
      "execution_count": null,
      "outputs": [
        {
          "output_type": "stream",
          "name": "stdout",
          "text": [
            "Requirement already satisfied: matplotlib in /usr/local/lib/python3.10/dist-packages (3.7.1)\n",
            "Requirement already satisfied: contourpy>=1.0.1 in /usr/local/lib/python3.10/dist-packages (from matplotlib) (1.1.1)\n",
            "Requirement already satisfied: cycler>=0.10 in /usr/local/lib/python3.10/dist-packages (from matplotlib) (0.12.1)\n",
            "Requirement already satisfied: fonttools>=4.22.0 in /usr/local/lib/python3.10/dist-packages (from matplotlib) (4.43.1)\n",
            "Requirement already satisfied: kiwisolver>=1.0.1 in /usr/local/lib/python3.10/dist-packages (from matplotlib) (1.4.5)\n",
            "Requirement already satisfied: numpy>=1.20 in /usr/local/lib/python3.10/dist-packages (from matplotlib) (1.23.5)\n",
            "Requirement already satisfied: packaging>=20.0 in /usr/local/lib/python3.10/dist-packages (from matplotlib) (23.2)\n",
            "Requirement already satisfied: pillow>=6.2.0 in /usr/local/lib/python3.10/dist-packages (from matplotlib) (9.4.0)\n",
            "Requirement already satisfied: pyparsing>=2.3.1 in /usr/local/lib/python3.10/dist-packages (from matplotlib) (3.1.1)\n",
            "Requirement already satisfied: python-dateutil>=2.7 in /usr/local/lib/python3.10/dist-packages (from matplotlib) (2.8.2)\n",
            "Requirement already satisfied: six>=1.5 in /usr/local/lib/python3.10/dist-packages (from python-dateutil>=2.7->matplotlib) (1.16.0)\n",
            "Requirement already satisfied: seaborn in /usr/local/lib/python3.10/dist-packages (0.12.2)\n",
            "Requirement already satisfied: numpy!=1.24.0,>=1.17 in /usr/local/lib/python3.10/dist-packages (from seaborn) (1.23.5)\n",
            "Requirement already satisfied: pandas>=0.25 in /usr/local/lib/python3.10/dist-packages (from seaborn) (1.5.3)\n",
            "Requirement already satisfied: matplotlib!=3.6.1,>=3.1 in /usr/local/lib/python3.10/dist-packages (from seaborn) (3.7.1)\n",
            "Requirement already satisfied: contourpy>=1.0.1 in /usr/local/lib/python3.10/dist-packages (from matplotlib!=3.6.1,>=3.1->seaborn) (1.1.1)\n",
            "Requirement already satisfied: cycler>=0.10 in /usr/local/lib/python3.10/dist-packages (from matplotlib!=3.6.1,>=3.1->seaborn) (0.12.1)\n",
            "Requirement already satisfied: fonttools>=4.22.0 in /usr/local/lib/python3.10/dist-packages (from matplotlib!=3.6.1,>=3.1->seaborn) (4.43.1)\n",
            "Requirement already satisfied: kiwisolver>=1.0.1 in /usr/local/lib/python3.10/dist-packages (from matplotlib!=3.6.1,>=3.1->seaborn) (1.4.5)\n",
            "Requirement already satisfied: packaging>=20.0 in /usr/local/lib/python3.10/dist-packages (from matplotlib!=3.6.1,>=3.1->seaborn) (23.2)\n",
            "Requirement already satisfied: pillow>=6.2.0 in /usr/local/lib/python3.10/dist-packages (from matplotlib!=3.6.1,>=3.1->seaborn) (9.4.0)\n",
            "Requirement already satisfied: pyparsing>=2.3.1 in /usr/local/lib/python3.10/dist-packages (from matplotlib!=3.6.1,>=3.1->seaborn) (3.1.1)\n",
            "Requirement already satisfied: python-dateutil>=2.7 in /usr/local/lib/python3.10/dist-packages (from matplotlib!=3.6.1,>=3.1->seaborn) (2.8.2)\n",
            "Requirement already satisfied: pytz>=2020.1 in /usr/local/lib/python3.10/dist-packages (from pandas>=0.25->seaborn) (2023.3.post1)\n",
            "Requirement already satisfied: six>=1.5 in /usr/local/lib/python3.10/dist-packages (from python-dateutil>=2.7->matplotlib!=3.6.1,>=3.1->seaborn) (1.16.0)\n"
          ]
        }
      ]
    },
    {
      "cell_type": "code",
      "source": [
        "file_path = file_path = '/content/drive/MyDrive/Colab Notebooks/CMPE255/assignment_05/datasets/b_timeseries/covid19_timeseries.csv'"
      ],
      "metadata": {
        "id": "R4pJCE-gTYqK"
      },
      "execution_count": null,
      "outputs": []
    },
    {
      "cell_type": "markdown",
      "source": [
        "### Exploratory Data Analysis\n",
        "During this step, we will take a look at the data and see the structure of the data."
      ],
      "metadata": {
        "id": "QUHV4KKqUOQO"
      }
    },
    {
      "cell_type": "code",
      "source": [
        "import pandas as pd\n",
        "\n",
        "# Load the dataset\n",
        "data = pd.read_csv(file_path)\n",
        "\n",
        "# Basic information about the dataset\n",
        "data_info = data.info()\n",
        "\n",
        "# First few records to understand the dataset structure\n",
        "data_head = data.head()\n",
        "\n",
        "# Summary statistics to understand the range, counts, and general statistical properties\n",
        "data_description = data.describe()"
      ],
      "metadata": {
        "colab": {
          "base_uri": "https://localhost:8080/"
        },
        "id": "R2SuLCzTS5qJ",
        "outputId": "6525154f-e508-41c2-ec1a-fd2ed2902e09"
      },
      "execution_count": null,
      "outputs": [
        {
          "output_type": "stream",
          "name": "stdout",
          "text": [
            "<class 'pandas.core.frame.DataFrame'>\n",
            "RangeIndex: 75576 entries, 0 to 75575\n",
            "Data columns (total 8 columns):\n",
            " #   Column           Non-Null Count  Dtype  \n",
            "---  ------           --------------  -----  \n",
            " 0   Province/State   22842 non-null  object \n",
            " 1   Country/Region   75576 non-null  object \n",
            " 2   Lat              75576 non-null  float64\n",
            " 3   Long             75576 non-null  float64\n",
            " 4   Dates            75576 non-null  object \n",
            " 5   Confirmed Cases  75576 non-null  int64  \n",
            " 6   Death Cases      75576 non-null  int64  \n",
            " 7   Recovered Cases  71910 non-null  float64\n",
            "dtypes: float64(3), int64(2), object(3)\n",
            "memory usage: 4.6+ MB\n"
          ]
        }
      ]
    },
    {
      "cell_type": "code",
      "source": [
        "data_head"
      ],
      "metadata": {
        "colab": {
          "base_uri": "https://localhost:8080/",
          "height": 206
        },
        "id": "8yjRoCTYTkG0",
        "outputId": "a6b11f93-7e22-4f0f-8429-ea43b92859c9"
      },
      "execution_count": null,
      "outputs": [
        {
          "output_type": "execute_result",
          "data": {
            "text/plain": [
              "  Province/State Country/Region       Lat       Long       Dates  \\\n",
              "0            NaN    Afghanistan  33.93911  67.709953  2020-01-22   \n",
              "1            NaN        Albania  41.15330  20.168300  2020-01-22   \n",
              "2            NaN        Algeria  28.03390   1.659600  2020-01-22   \n",
              "3            NaN        Andorra  42.50630   1.521800  2020-01-22   \n",
              "4            NaN         Angola -11.20270  17.873900  2020-01-22   \n",
              "\n",
              "   Confirmed Cases  Death Cases  Recovered Cases  \n",
              "0                0            0              0.0  \n",
              "1                0            0              0.0  \n",
              "2                0            0              0.0  \n",
              "3                0            0              0.0  \n",
              "4                0            0              0.0  "
            ],
            "text/html": [
              "\n",
              "  <div id=\"df-334f39c3-aad4-4e9b-8c5a-5c474787c0cc\" class=\"colab-df-container\">\n",
              "    <div>\n",
              "<style scoped>\n",
              "    .dataframe tbody tr th:only-of-type {\n",
              "        vertical-align: middle;\n",
              "    }\n",
              "\n",
              "    .dataframe tbody tr th {\n",
              "        vertical-align: top;\n",
              "    }\n",
              "\n",
              "    .dataframe thead th {\n",
              "        text-align: right;\n",
              "    }\n",
              "</style>\n",
              "<table border=\"1\" class=\"dataframe\">\n",
              "  <thead>\n",
              "    <tr style=\"text-align: right;\">\n",
              "      <th></th>\n",
              "      <th>Province/State</th>\n",
              "      <th>Country/Region</th>\n",
              "      <th>Lat</th>\n",
              "      <th>Long</th>\n",
              "      <th>Dates</th>\n",
              "      <th>Confirmed Cases</th>\n",
              "      <th>Death Cases</th>\n",
              "      <th>Recovered Cases</th>\n",
              "    </tr>\n",
              "  </thead>\n",
              "  <tbody>\n",
              "    <tr>\n",
              "      <th>0</th>\n",
              "      <td>NaN</td>\n",
              "      <td>Afghanistan</td>\n",
              "      <td>33.93911</td>\n",
              "      <td>67.709953</td>\n",
              "      <td>2020-01-22</td>\n",
              "      <td>0</td>\n",
              "      <td>0</td>\n",
              "      <td>0.0</td>\n",
              "    </tr>\n",
              "    <tr>\n",
              "      <th>1</th>\n",
              "      <td>NaN</td>\n",
              "      <td>Albania</td>\n",
              "      <td>41.15330</td>\n",
              "      <td>20.168300</td>\n",
              "      <td>2020-01-22</td>\n",
              "      <td>0</td>\n",
              "      <td>0</td>\n",
              "      <td>0.0</td>\n",
              "    </tr>\n",
              "    <tr>\n",
              "      <th>2</th>\n",
              "      <td>NaN</td>\n",
              "      <td>Algeria</td>\n",
              "      <td>28.03390</td>\n",
              "      <td>1.659600</td>\n",
              "      <td>2020-01-22</td>\n",
              "      <td>0</td>\n",
              "      <td>0</td>\n",
              "      <td>0.0</td>\n",
              "    </tr>\n",
              "    <tr>\n",
              "      <th>3</th>\n",
              "      <td>NaN</td>\n",
              "      <td>Andorra</td>\n",
              "      <td>42.50630</td>\n",
              "      <td>1.521800</td>\n",
              "      <td>2020-01-22</td>\n",
              "      <td>0</td>\n",
              "      <td>0</td>\n",
              "      <td>0.0</td>\n",
              "    </tr>\n",
              "    <tr>\n",
              "      <th>4</th>\n",
              "      <td>NaN</td>\n",
              "      <td>Angola</td>\n",
              "      <td>-11.20270</td>\n",
              "      <td>17.873900</td>\n",
              "      <td>2020-01-22</td>\n",
              "      <td>0</td>\n",
              "      <td>0</td>\n",
              "      <td>0.0</td>\n",
              "    </tr>\n",
              "  </tbody>\n",
              "</table>\n",
              "</div>\n",
              "    <div class=\"colab-df-buttons\">\n",
              "\n",
              "  <div class=\"colab-df-container\">\n",
              "    <button class=\"colab-df-convert\" onclick=\"convertToInteractive('df-334f39c3-aad4-4e9b-8c5a-5c474787c0cc')\"\n",
              "            title=\"Convert this dataframe to an interactive table.\"\n",
              "            style=\"display:none;\">\n",
              "\n",
              "  <svg xmlns=\"http://www.w3.org/2000/svg\" height=\"24px\" viewBox=\"0 -960 960 960\">\n",
              "    <path d=\"M120-120v-720h720v720H120Zm60-500h600v-160H180v160Zm220 220h160v-160H400v160Zm0 220h160v-160H400v160ZM180-400h160v-160H180v160Zm440 0h160v-160H620v160ZM180-180h160v-160H180v160Zm440 0h160v-160H620v160Z\"/>\n",
              "  </svg>\n",
              "    </button>\n",
              "\n",
              "  <style>\n",
              "    .colab-df-container {\n",
              "      display:flex;\n",
              "      gap: 12px;\n",
              "    }\n",
              "\n",
              "    .colab-df-convert {\n",
              "      background-color: #E8F0FE;\n",
              "      border: none;\n",
              "      border-radius: 50%;\n",
              "      cursor: pointer;\n",
              "      display: none;\n",
              "      fill: #1967D2;\n",
              "      height: 32px;\n",
              "      padding: 0 0 0 0;\n",
              "      width: 32px;\n",
              "    }\n",
              "\n",
              "    .colab-df-convert:hover {\n",
              "      background-color: #E2EBFA;\n",
              "      box-shadow: 0px 1px 2px rgba(60, 64, 67, 0.3), 0px 1px 3px 1px rgba(60, 64, 67, 0.15);\n",
              "      fill: #174EA6;\n",
              "    }\n",
              "\n",
              "    .colab-df-buttons div {\n",
              "      margin-bottom: 4px;\n",
              "    }\n",
              "\n",
              "    [theme=dark] .colab-df-convert {\n",
              "      background-color: #3B4455;\n",
              "      fill: #D2E3FC;\n",
              "    }\n",
              "\n",
              "    [theme=dark] .colab-df-convert:hover {\n",
              "      background-color: #434B5C;\n",
              "      box-shadow: 0px 1px 3px 1px rgba(0, 0, 0, 0.15);\n",
              "      filter: drop-shadow(0px 1px 2px rgba(0, 0, 0, 0.3));\n",
              "      fill: #FFFFFF;\n",
              "    }\n",
              "  </style>\n",
              "\n",
              "    <script>\n",
              "      const buttonEl =\n",
              "        document.querySelector('#df-334f39c3-aad4-4e9b-8c5a-5c474787c0cc button.colab-df-convert');\n",
              "      buttonEl.style.display =\n",
              "        google.colab.kernel.accessAllowed ? 'block' : 'none';\n",
              "\n",
              "      async function convertToInteractive(key) {\n",
              "        const element = document.querySelector('#df-334f39c3-aad4-4e9b-8c5a-5c474787c0cc');\n",
              "        const dataTable =\n",
              "          await google.colab.kernel.invokeFunction('convertToInteractive',\n",
              "                                                    [key], {});\n",
              "        if (!dataTable) return;\n",
              "\n",
              "        const docLinkHtml = 'Like what you see? Visit the ' +\n",
              "          '<a target=\"_blank\" href=https://colab.research.google.com/notebooks/data_table.ipynb>data table notebook</a>'\n",
              "          + ' to learn more about interactive tables.';\n",
              "        element.innerHTML = '';\n",
              "        dataTable['output_type'] = 'display_data';\n",
              "        await google.colab.output.renderOutput(dataTable, element);\n",
              "        const docLink = document.createElement('div');\n",
              "        docLink.innerHTML = docLinkHtml;\n",
              "        element.appendChild(docLink);\n",
              "      }\n",
              "    </script>\n",
              "  </div>\n",
              "\n",
              "\n",
              "<div id=\"df-97a72f67-eb20-4836-8962-2079abc086e7\">\n",
              "  <button class=\"colab-df-quickchart\" onclick=\"quickchart('df-97a72f67-eb20-4836-8962-2079abc086e7')\"\n",
              "            title=\"Suggest charts.\"\n",
              "            style=\"display:none;\">\n",
              "\n",
              "<svg xmlns=\"http://www.w3.org/2000/svg\" height=\"24px\"viewBox=\"0 0 24 24\"\n",
              "     width=\"24px\">\n",
              "    <g>\n",
              "        <path d=\"M19 3H5c-1.1 0-2 .9-2 2v14c0 1.1.9 2 2 2h14c1.1 0 2-.9 2-2V5c0-1.1-.9-2-2-2zM9 17H7v-7h2v7zm4 0h-2V7h2v10zm4 0h-2v-4h2v4z\"/>\n",
              "    </g>\n",
              "</svg>\n",
              "  </button>\n",
              "\n",
              "<style>\n",
              "  .colab-df-quickchart {\n",
              "      --bg-color: #E8F0FE;\n",
              "      --fill-color: #1967D2;\n",
              "      --hover-bg-color: #E2EBFA;\n",
              "      --hover-fill-color: #174EA6;\n",
              "      --disabled-fill-color: #AAA;\n",
              "      --disabled-bg-color: #DDD;\n",
              "  }\n",
              "\n",
              "  [theme=dark] .colab-df-quickchart {\n",
              "      --bg-color: #3B4455;\n",
              "      --fill-color: #D2E3FC;\n",
              "      --hover-bg-color: #434B5C;\n",
              "      --hover-fill-color: #FFFFFF;\n",
              "      --disabled-bg-color: #3B4455;\n",
              "      --disabled-fill-color: #666;\n",
              "  }\n",
              "\n",
              "  .colab-df-quickchart {\n",
              "    background-color: var(--bg-color);\n",
              "    border: none;\n",
              "    border-radius: 50%;\n",
              "    cursor: pointer;\n",
              "    display: none;\n",
              "    fill: var(--fill-color);\n",
              "    height: 32px;\n",
              "    padding: 0;\n",
              "    width: 32px;\n",
              "  }\n",
              "\n",
              "  .colab-df-quickchart:hover {\n",
              "    background-color: var(--hover-bg-color);\n",
              "    box-shadow: 0 1px 2px rgba(60, 64, 67, 0.3), 0 1px 3px 1px rgba(60, 64, 67, 0.15);\n",
              "    fill: var(--button-hover-fill-color);\n",
              "  }\n",
              "\n",
              "  .colab-df-quickchart-complete:disabled,\n",
              "  .colab-df-quickchart-complete:disabled:hover {\n",
              "    background-color: var(--disabled-bg-color);\n",
              "    fill: var(--disabled-fill-color);\n",
              "    box-shadow: none;\n",
              "  }\n",
              "\n",
              "  .colab-df-spinner {\n",
              "    border: 2px solid var(--fill-color);\n",
              "    border-color: transparent;\n",
              "    border-bottom-color: var(--fill-color);\n",
              "    animation:\n",
              "      spin 1s steps(1) infinite;\n",
              "  }\n",
              "\n",
              "  @keyframes spin {\n",
              "    0% {\n",
              "      border-color: transparent;\n",
              "      border-bottom-color: var(--fill-color);\n",
              "      border-left-color: var(--fill-color);\n",
              "    }\n",
              "    20% {\n",
              "      border-color: transparent;\n",
              "      border-left-color: var(--fill-color);\n",
              "      border-top-color: var(--fill-color);\n",
              "    }\n",
              "    30% {\n",
              "      border-color: transparent;\n",
              "      border-left-color: var(--fill-color);\n",
              "      border-top-color: var(--fill-color);\n",
              "      border-right-color: var(--fill-color);\n",
              "    }\n",
              "    40% {\n",
              "      border-color: transparent;\n",
              "      border-right-color: var(--fill-color);\n",
              "      border-top-color: var(--fill-color);\n",
              "    }\n",
              "    60% {\n",
              "      border-color: transparent;\n",
              "      border-right-color: var(--fill-color);\n",
              "    }\n",
              "    80% {\n",
              "      border-color: transparent;\n",
              "      border-right-color: var(--fill-color);\n",
              "      border-bottom-color: var(--fill-color);\n",
              "    }\n",
              "    90% {\n",
              "      border-color: transparent;\n",
              "      border-bottom-color: var(--fill-color);\n",
              "    }\n",
              "  }\n",
              "</style>\n",
              "\n",
              "  <script>\n",
              "    async function quickchart(key) {\n",
              "      const quickchartButtonEl =\n",
              "        document.querySelector('#' + key + ' button');\n",
              "      quickchartButtonEl.disabled = true;  // To prevent multiple clicks.\n",
              "      quickchartButtonEl.classList.add('colab-df-spinner');\n",
              "      try {\n",
              "        const charts = await google.colab.kernel.invokeFunction(\n",
              "            'suggestCharts', [key], {});\n",
              "      } catch (error) {\n",
              "        console.error('Error during call to suggestCharts:', error);\n",
              "      }\n",
              "      quickchartButtonEl.classList.remove('colab-df-spinner');\n",
              "      quickchartButtonEl.classList.add('colab-df-quickchart-complete');\n",
              "    }\n",
              "    (() => {\n",
              "      let quickchartButtonEl =\n",
              "        document.querySelector('#df-97a72f67-eb20-4836-8962-2079abc086e7 button');\n",
              "      quickchartButtonEl.style.display =\n",
              "        google.colab.kernel.accessAllowed ? 'block' : 'none';\n",
              "    })();\n",
              "  </script>\n",
              "</div>\n",
              "    </div>\n",
              "  </div>\n"
            ]
          },
          "metadata": {},
          "execution_count": 5
        }
      ]
    },
    {
      "cell_type": "code",
      "source": [
        "data_description"
      ],
      "metadata": {
        "colab": {
          "base_uri": "https://localhost:8080/",
          "height": 300
        },
        "id": "YOgWewoCTkW8",
        "outputId": "868919a3-5cc3-4dba-c6ff-d1171754bba3"
      },
      "execution_count": null,
      "outputs": [
        {
          "output_type": "execute_result",
          "data": {
            "text/plain": [
              "                Lat          Long  Confirmed Cases    Death Cases  \\\n",
              "count  75576.000000  75576.000000     7.557600e+04   75576.000000   \n",
              "mean      20.909955     23.895418     4.760445e+04    1717.757013   \n",
              "std       24.850031     70.873789     3.585550e+05   10836.671487   \n",
              "min      -51.796300   -135.000000     0.000000e+00       0.000000   \n",
              "25%        6.565339    -15.212825     1.800000e+01       0.000000   \n",
              "50%       22.233350     20.972650     4.840000e+02       6.000000   \n",
              "75%       41.123000     81.641348     5.237000e+03     102.000000   \n",
              "max       71.706900    178.065000     8.944934e+06  228656.000000   \n",
              "\n",
              "       Recovered Cases  \n",
              "count     7.191000e+04  \n",
              "mean      3.124433e+04  \n",
              "std       2.393325e+05  \n",
              "min       0.000000e+00  \n",
              "25%       4.000000e+00  \n",
              "50%       2.370000e+02  \n",
              "75%       2.646000e+03  \n",
              "max       7.373375e+06  "
            ],
            "text/html": [
              "\n",
              "  <div id=\"df-497fb909-33df-43d4-beae-480c788d1c21\" class=\"colab-df-container\">\n",
              "    <div>\n",
              "<style scoped>\n",
              "    .dataframe tbody tr th:only-of-type {\n",
              "        vertical-align: middle;\n",
              "    }\n",
              "\n",
              "    .dataframe tbody tr th {\n",
              "        vertical-align: top;\n",
              "    }\n",
              "\n",
              "    .dataframe thead th {\n",
              "        text-align: right;\n",
              "    }\n",
              "</style>\n",
              "<table border=\"1\" class=\"dataframe\">\n",
              "  <thead>\n",
              "    <tr style=\"text-align: right;\">\n",
              "      <th></th>\n",
              "      <th>Lat</th>\n",
              "      <th>Long</th>\n",
              "      <th>Confirmed Cases</th>\n",
              "      <th>Death Cases</th>\n",
              "      <th>Recovered Cases</th>\n",
              "    </tr>\n",
              "  </thead>\n",
              "  <tbody>\n",
              "    <tr>\n",
              "      <th>count</th>\n",
              "      <td>75576.000000</td>\n",
              "      <td>75576.000000</td>\n",
              "      <td>7.557600e+04</td>\n",
              "      <td>75576.000000</td>\n",
              "      <td>7.191000e+04</td>\n",
              "    </tr>\n",
              "    <tr>\n",
              "      <th>mean</th>\n",
              "      <td>20.909955</td>\n",
              "      <td>23.895418</td>\n",
              "      <td>4.760445e+04</td>\n",
              "      <td>1717.757013</td>\n",
              "      <td>3.124433e+04</td>\n",
              "    </tr>\n",
              "    <tr>\n",
              "      <th>std</th>\n",
              "      <td>24.850031</td>\n",
              "      <td>70.873789</td>\n",
              "      <td>3.585550e+05</td>\n",
              "      <td>10836.671487</td>\n",
              "      <td>2.393325e+05</td>\n",
              "    </tr>\n",
              "    <tr>\n",
              "      <th>min</th>\n",
              "      <td>-51.796300</td>\n",
              "      <td>-135.000000</td>\n",
              "      <td>0.000000e+00</td>\n",
              "      <td>0.000000</td>\n",
              "      <td>0.000000e+00</td>\n",
              "    </tr>\n",
              "    <tr>\n",
              "      <th>25%</th>\n",
              "      <td>6.565339</td>\n",
              "      <td>-15.212825</td>\n",
              "      <td>1.800000e+01</td>\n",
              "      <td>0.000000</td>\n",
              "      <td>4.000000e+00</td>\n",
              "    </tr>\n",
              "    <tr>\n",
              "      <th>50%</th>\n",
              "      <td>22.233350</td>\n",
              "      <td>20.972650</td>\n",
              "      <td>4.840000e+02</td>\n",
              "      <td>6.000000</td>\n",
              "      <td>2.370000e+02</td>\n",
              "    </tr>\n",
              "    <tr>\n",
              "      <th>75%</th>\n",
              "      <td>41.123000</td>\n",
              "      <td>81.641348</td>\n",
              "      <td>5.237000e+03</td>\n",
              "      <td>102.000000</td>\n",
              "      <td>2.646000e+03</td>\n",
              "    </tr>\n",
              "    <tr>\n",
              "      <th>max</th>\n",
              "      <td>71.706900</td>\n",
              "      <td>178.065000</td>\n",
              "      <td>8.944934e+06</td>\n",
              "      <td>228656.000000</td>\n",
              "      <td>7.373375e+06</td>\n",
              "    </tr>\n",
              "  </tbody>\n",
              "</table>\n",
              "</div>\n",
              "    <div class=\"colab-df-buttons\">\n",
              "\n",
              "  <div class=\"colab-df-container\">\n",
              "    <button class=\"colab-df-convert\" onclick=\"convertToInteractive('df-497fb909-33df-43d4-beae-480c788d1c21')\"\n",
              "            title=\"Convert this dataframe to an interactive table.\"\n",
              "            style=\"display:none;\">\n",
              "\n",
              "  <svg xmlns=\"http://www.w3.org/2000/svg\" height=\"24px\" viewBox=\"0 -960 960 960\">\n",
              "    <path d=\"M120-120v-720h720v720H120Zm60-500h600v-160H180v160Zm220 220h160v-160H400v160Zm0 220h160v-160H400v160ZM180-400h160v-160H180v160Zm440 0h160v-160H620v160ZM180-180h160v-160H180v160Zm440 0h160v-160H620v160Z\"/>\n",
              "  </svg>\n",
              "    </button>\n",
              "\n",
              "  <style>\n",
              "    .colab-df-container {\n",
              "      display:flex;\n",
              "      gap: 12px;\n",
              "    }\n",
              "\n",
              "    .colab-df-convert {\n",
              "      background-color: #E8F0FE;\n",
              "      border: none;\n",
              "      border-radius: 50%;\n",
              "      cursor: pointer;\n",
              "      display: none;\n",
              "      fill: #1967D2;\n",
              "      height: 32px;\n",
              "      padding: 0 0 0 0;\n",
              "      width: 32px;\n",
              "    }\n",
              "\n",
              "    .colab-df-convert:hover {\n",
              "      background-color: #E2EBFA;\n",
              "      box-shadow: 0px 1px 2px rgba(60, 64, 67, 0.3), 0px 1px 3px 1px rgba(60, 64, 67, 0.15);\n",
              "      fill: #174EA6;\n",
              "    }\n",
              "\n",
              "    .colab-df-buttons div {\n",
              "      margin-bottom: 4px;\n",
              "    }\n",
              "\n",
              "    [theme=dark] .colab-df-convert {\n",
              "      background-color: #3B4455;\n",
              "      fill: #D2E3FC;\n",
              "    }\n",
              "\n",
              "    [theme=dark] .colab-df-convert:hover {\n",
              "      background-color: #434B5C;\n",
              "      box-shadow: 0px 1px 3px 1px rgba(0, 0, 0, 0.15);\n",
              "      filter: drop-shadow(0px 1px 2px rgba(0, 0, 0, 0.3));\n",
              "      fill: #FFFFFF;\n",
              "    }\n",
              "  </style>\n",
              "\n",
              "    <script>\n",
              "      const buttonEl =\n",
              "        document.querySelector('#df-497fb909-33df-43d4-beae-480c788d1c21 button.colab-df-convert');\n",
              "      buttonEl.style.display =\n",
              "        google.colab.kernel.accessAllowed ? 'block' : 'none';\n",
              "\n",
              "      async function convertToInteractive(key) {\n",
              "        const element = document.querySelector('#df-497fb909-33df-43d4-beae-480c788d1c21');\n",
              "        const dataTable =\n",
              "          await google.colab.kernel.invokeFunction('convertToInteractive',\n",
              "                                                    [key], {});\n",
              "        if (!dataTable) return;\n",
              "\n",
              "        const docLinkHtml = 'Like what you see? Visit the ' +\n",
              "          '<a target=\"_blank\" href=https://colab.research.google.com/notebooks/data_table.ipynb>data table notebook</a>'\n",
              "          + ' to learn more about interactive tables.';\n",
              "        element.innerHTML = '';\n",
              "        dataTable['output_type'] = 'display_data';\n",
              "        await google.colab.output.renderOutput(dataTable, element);\n",
              "        const docLink = document.createElement('div');\n",
              "        docLink.innerHTML = docLinkHtml;\n",
              "        element.appendChild(docLink);\n",
              "      }\n",
              "    </script>\n",
              "  </div>\n",
              "\n",
              "\n",
              "<div id=\"df-9e1578b6-ca26-4127-bd6c-0ee5e889e224\">\n",
              "  <button class=\"colab-df-quickchart\" onclick=\"quickchart('df-9e1578b6-ca26-4127-bd6c-0ee5e889e224')\"\n",
              "            title=\"Suggest charts.\"\n",
              "            style=\"display:none;\">\n",
              "\n",
              "<svg xmlns=\"http://www.w3.org/2000/svg\" height=\"24px\"viewBox=\"0 0 24 24\"\n",
              "     width=\"24px\">\n",
              "    <g>\n",
              "        <path d=\"M19 3H5c-1.1 0-2 .9-2 2v14c0 1.1.9 2 2 2h14c1.1 0 2-.9 2-2V5c0-1.1-.9-2-2-2zM9 17H7v-7h2v7zm4 0h-2V7h2v10zm4 0h-2v-4h2v4z\"/>\n",
              "    </g>\n",
              "</svg>\n",
              "  </button>\n",
              "\n",
              "<style>\n",
              "  .colab-df-quickchart {\n",
              "      --bg-color: #E8F0FE;\n",
              "      --fill-color: #1967D2;\n",
              "      --hover-bg-color: #E2EBFA;\n",
              "      --hover-fill-color: #174EA6;\n",
              "      --disabled-fill-color: #AAA;\n",
              "      --disabled-bg-color: #DDD;\n",
              "  }\n",
              "\n",
              "  [theme=dark] .colab-df-quickchart {\n",
              "      --bg-color: #3B4455;\n",
              "      --fill-color: #D2E3FC;\n",
              "      --hover-bg-color: #434B5C;\n",
              "      --hover-fill-color: #FFFFFF;\n",
              "      --disabled-bg-color: #3B4455;\n",
              "      --disabled-fill-color: #666;\n",
              "  }\n",
              "\n",
              "  .colab-df-quickchart {\n",
              "    background-color: var(--bg-color);\n",
              "    border: none;\n",
              "    border-radius: 50%;\n",
              "    cursor: pointer;\n",
              "    display: none;\n",
              "    fill: var(--fill-color);\n",
              "    height: 32px;\n",
              "    padding: 0;\n",
              "    width: 32px;\n",
              "  }\n",
              "\n",
              "  .colab-df-quickchart:hover {\n",
              "    background-color: var(--hover-bg-color);\n",
              "    box-shadow: 0 1px 2px rgba(60, 64, 67, 0.3), 0 1px 3px 1px rgba(60, 64, 67, 0.15);\n",
              "    fill: var(--button-hover-fill-color);\n",
              "  }\n",
              "\n",
              "  .colab-df-quickchart-complete:disabled,\n",
              "  .colab-df-quickchart-complete:disabled:hover {\n",
              "    background-color: var(--disabled-bg-color);\n",
              "    fill: var(--disabled-fill-color);\n",
              "    box-shadow: none;\n",
              "  }\n",
              "\n",
              "  .colab-df-spinner {\n",
              "    border: 2px solid var(--fill-color);\n",
              "    border-color: transparent;\n",
              "    border-bottom-color: var(--fill-color);\n",
              "    animation:\n",
              "      spin 1s steps(1) infinite;\n",
              "  }\n",
              "\n",
              "  @keyframes spin {\n",
              "    0% {\n",
              "      border-color: transparent;\n",
              "      border-bottom-color: var(--fill-color);\n",
              "      border-left-color: var(--fill-color);\n",
              "    }\n",
              "    20% {\n",
              "      border-color: transparent;\n",
              "      border-left-color: var(--fill-color);\n",
              "      border-top-color: var(--fill-color);\n",
              "    }\n",
              "    30% {\n",
              "      border-color: transparent;\n",
              "      border-left-color: var(--fill-color);\n",
              "      border-top-color: var(--fill-color);\n",
              "      border-right-color: var(--fill-color);\n",
              "    }\n",
              "    40% {\n",
              "      border-color: transparent;\n",
              "      border-right-color: var(--fill-color);\n",
              "      border-top-color: var(--fill-color);\n",
              "    }\n",
              "    60% {\n",
              "      border-color: transparent;\n",
              "      border-right-color: var(--fill-color);\n",
              "    }\n",
              "    80% {\n",
              "      border-color: transparent;\n",
              "      border-right-color: var(--fill-color);\n",
              "      border-bottom-color: var(--fill-color);\n",
              "    }\n",
              "    90% {\n",
              "      border-color: transparent;\n",
              "      border-bottom-color: var(--fill-color);\n",
              "    }\n",
              "  }\n",
              "</style>\n",
              "\n",
              "  <script>\n",
              "    async function quickchart(key) {\n",
              "      const quickchartButtonEl =\n",
              "        document.querySelector('#' + key + ' button');\n",
              "      quickchartButtonEl.disabled = true;  // To prevent multiple clicks.\n",
              "      quickchartButtonEl.classList.add('colab-df-spinner');\n",
              "      try {\n",
              "        const charts = await google.colab.kernel.invokeFunction(\n",
              "            'suggestCharts', [key], {});\n",
              "      } catch (error) {\n",
              "        console.error('Error during call to suggestCharts:', error);\n",
              "      }\n",
              "      quickchartButtonEl.classList.remove('colab-df-spinner');\n",
              "      quickchartButtonEl.classList.add('colab-df-quickchart-complete');\n",
              "    }\n",
              "    (() => {\n",
              "      let quickchartButtonEl =\n",
              "        document.querySelector('#df-9e1578b6-ca26-4127-bd6c-0ee5e889e224 button');\n",
              "      quickchartButtonEl.style.display =\n",
              "        google.colab.kernel.accessAllowed ? 'block' : 'none';\n",
              "    })();\n",
              "  </script>\n",
              "</div>\n",
              "    </div>\n",
              "  </div>\n"
            ]
          },
          "metadata": {},
          "execution_count": 6
        }
      ]
    },
    {
      "cell_type": "markdown",
      "source": [
        "### Preliminary Observations\n",
        "Based on the initial preview of the dataset, we have the following columns:\n",
        "\n",
        "1. Province/State: The province or state within the country (if available).\n",
        "2. Country/Region: The country or region.\n",
        "3. Lat: Latitude of the location.\n",
        "4. Long: Longitude of the location.\n",
        "5. Dates: The date of the data entry.\n",
        "6. Confirmed Cases: The number of confirmed COVID-19 cases.\n",
        "7. Death Cases: The number of death cases due to COVID-19.\n",
        "8. Recovered Cases: The number of recovered COVID-19 cases.\n",
        "\n"
      ],
      "metadata": {
        "id": "_Y9NnvT4UGvQ"
      }
    },
    {
      "cell_type": "markdown",
      "source": [
        "### Initial Data Cleaning and Exploration\n",
        "In this section, we will check for:\n",
        "\n",
        "\n",
        "*   Missing values in the dataset.\n",
        "*   Data types for each column.\n",
        "*   Statistical summary of numeric columns.\n",
        "\n",
        "\n",
        "\n",
        "\n"
      ],
      "metadata": {
        "id": "T6xw3YrrUozN"
      }
    },
    {
      "cell_type": "code",
      "source": [
        "# Check for missing values\n",
        "missing_values = data.isnull().sum()\n",
        "\n",
        "# Check data types\n",
        "data_types = data.dtypes\n",
        "\n",
        "# Statistical summary\n",
        "summary = data.describe()\n",
        "\n",
        "missing_values, data_types, summary\n"
      ],
      "metadata": {
        "colab": {
          "base_uri": "https://localhost:8080/"
        },
        "id": "xbe4fOiRUt3L",
        "outputId": "ab59293d-6766-46e2-a968-7bd62c81e2b8"
      },
      "execution_count": null,
      "outputs": [
        {
          "output_type": "execute_result",
          "data": {
            "text/plain": [
              "(Province/State     52734\n",
              " Country/Region         0\n",
              " Lat                    0\n",
              " Long                   0\n",
              " Dates                  0\n",
              " Confirmed Cases        0\n",
              " Death Cases            0\n",
              " Recovered Cases     3666\n",
              " dtype: int64,\n",
              " Province/State      object\n",
              " Country/Region      object\n",
              " Lat                float64\n",
              " Long               float64\n",
              " Dates               object\n",
              " Confirmed Cases      int64\n",
              " Death Cases          int64\n",
              " Recovered Cases    float64\n",
              " dtype: object,\n",
              "                 Lat          Long  Confirmed Cases    Death Cases  \\\n",
              " count  75576.000000  75576.000000     7.557600e+04   75576.000000   \n",
              " mean      20.909955     23.895418     4.760445e+04    1717.757013   \n",
              " std       24.850031     70.873789     3.585550e+05   10836.671487   \n",
              " min      -51.796300   -135.000000     0.000000e+00       0.000000   \n",
              " 25%        6.565339    -15.212825     1.800000e+01       0.000000   \n",
              " 50%       22.233350     20.972650     4.840000e+02       6.000000   \n",
              " 75%       41.123000     81.641348     5.237000e+03     102.000000   \n",
              " max       71.706900    178.065000     8.944934e+06  228656.000000   \n",
              " \n",
              "        Recovered Cases  \n",
              " count     7.191000e+04  \n",
              " mean      3.124433e+04  \n",
              " std       2.393325e+05  \n",
              " min       0.000000e+00  \n",
              " 25%       4.000000e+00  \n",
              " 50%       2.370000e+02  \n",
              " 75%       2.646000e+03  \n",
              " max       7.373375e+06  )"
            ]
          },
          "metadata": {},
          "execution_count": 7
        }
      ]
    },
    {
      "cell_type": "markdown",
      "source": [
        "### Observations from Initial Data Cleaning and Exploration\n",
        "**Missing Values:**\n",
        "Province/State has 52,734 missing values. This is expected as not every country might have data split by province or state.\n",
        "\n",
        "Recovered Cases has 3,666 missing values. We'll need to address this.\n",
        "\n",
        "\n",
        "**Data Types:**\n",
        "Most columns have appropriate data types. However, Dates should be converted to a datetime format for better handling.\n",
        "\n",
        "\n",
        "**Statistical Summary:**\n",
        "The minimum values for Confirmed Cases, Death Cases, and Recovered Cases are 0, which is expected.\n",
        "There's a significant difference between the 75th percentile and the maximum values for Confirmed Cases, Death Cases, and Recovered Cases, suggesting the presence of outliers or large disparities in COVID-19 cases between regions.\n",
        "\n"
      ],
      "metadata": {
        "id": "xgs0l8wBU_8I"
      }
    },
    {
      "cell_type": "markdown",
      "source": [
        "### Data Cleaning Actions\n",
        "1. **Handle missing values:**  \n",
        "    - For Province/State, we can replace missing values with a placeholder like \"Not Specified\".\n",
        "    - For Recovered Cases, considering it's a timeseries data, interpolation might be a suitable method. However, we should first explore if these missing values are random or concentrated in specific regions or dates.\n",
        "2. Convert Dates column to datetime format.\n",
        "\n",
        "Let's begin by converting the Dates column to datetime format. Then we will explore the Recovered cases missing values."
      ],
      "metadata": {
        "id": "Aej3651KVF5D"
      }
    },
    {
      "cell_type": "code",
      "source": [
        "# Convert 'Dates' column to datetime format\n",
        "data['Dates'] = pd.to_datetime(data['Dates'])\n",
        "\n",
        "# Explore rows where 'Recovered Cases' is missing\n",
        "missing_recovered = data[data['Recovered Cases'].isnull()]\n",
        "\n",
        "missing_recovered['Country/Region'].value_counts()\n"
      ],
      "metadata": {
        "colab": {
          "base_uri": "https://localhost:8080/"
        },
        "id": "BZjp-SvHVw98",
        "outputId": "b8c933da-fa44-4ac9-8671-fd30bab89b0a"
      },
      "execution_count": null,
      "outputs": [
        {
          "output_type": "execute_result",
          "data": {
            "text/plain": [
              "China             432\n",
              "Canada            182\n",
              "France            154\n",
              "United Kingdom    154\n",
              "Australia         104\n",
              "                 ... \n",
              "Bahrain            13\n",
              "Bangladesh         13\n",
              "Barbados           13\n",
              "Belarus            13\n",
              "Chile              13\n",
              "Name: Country/Region, Length: 190, dtype: int64"
            ]
          },
          "metadata": {},
          "execution_count": 8
        }
      ]
    },
    {
      "cell_type": "markdown",
      "source": [
        "##### Observations\n",
        "1. The missing values in the Recovered Cases column are spread across multiple countries/regions. Countries like China, Canada, France, and the United Kingdom have a higher number of missing values.\n",
        "2. The distribution suggests that these missing values might not be concentrated on specific dates, but rather spread across various dates for these countries."
      ],
      "metadata": {
        "id": "Z3PEY6okV3ma"
      }
    },
    {
      "cell_type": "markdown",
      "source": [
        "### Data Cleaning Actions (Continued)\n",
        "1. For the Province/State column, we'll replace the missing values with \"Not Specified.\"\n",
        "2. For the Recovered Cases column, given that the missing values are spread across various countries and dates, we will use interpolation to fill these missing values. This will provide a smoother transition of data based on the available time series data for each country/region."
      ],
      "metadata": {
        "id": "TWVwaGgIV3KI"
      }
    },
    {
      "cell_type": "code",
      "source": [
        "# Replace missing values in 'Province/State' with 'Not Specified'\n",
        "data['Province/State'].fillna('Not Specified', inplace=True)\n",
        "\n",
        "# Interpolate missing values in 'Recovered Cases' for each country/region\n",
        "data['Recovered Cases'] = data.groupby('Country/Region')['Recovered Cases'].transform(lambda x: x.interpolate())\n",
        "\n",
        "# Check again for missing values\n",
        "remaining_missing_values = data.isnull().sum()\n",
        "remaining_missing_values\n"
      ],
      "metadata": {
        "colab": {
          "base_uri": "https://localhost:8080/"
        },
        "id": "xLE49rMEWJ5L",
        "outputId": "494d4ae4-c2f9-4fa7-b0ef-2fc7bb751a5e"
      },
      "execution_count": null,
      "outputs": [
        {
          "output_type": "execute_result",
          "data": {
            "text/plain": [
              "Province/State     0\n",
              "Country/Region     0\n",
              "Lat                0\n",
              "Long               0\n",
              "Dates              0\n",
              "Confirmed Cases    0\n",
              "Death Cases        0\n",
              "Recovered Cases    0\n",
              "dtype: int64"
            ]
          },
          "metadata": {},
          "execution_count": 9
        }
      ]
    },
    {
      "cell_type": "markdown",
      "source": [
        "##### Actions Taken\n",
        "1. Converted the Dates column to datetime format.\n",
        "2. Replaced missing values in the Province/State column with \"Not Specified\".\n",
        "3. Interpolated missing values in the Recovered Cases column based on the time series data for each country/region.\n",
        "\n",
        "Outcome:    \n",
        "All missing values have been addressed, and the dataset is now cleaned and ready for further processing."
      ],
      "metadata": {
        "id": "cgsx0x7-WQbv"
      }
    },
    {
      "cell_type": "markdown",
      "source": [
        "### Clustering and Anomaly Elimination\n",
        "Before clustering, we need to determine the features that would be most relevant for clustering. We can use the Confirmed Cases, Death Cases, and Recovered Cases as these represent the core information about the COVID-19 situation in each region.\n",
        "\n",
        "However, before clustering, it's essential to scale the data to ensure that all features have the same weight.\n",
        "\n",
        "Let's scale the data and proceed to clustering.​"
      ],
      "metadata": {
        "id": "RqSh6f07Wdj8"
      }
    },
    {
      "cell_type": "markdown",
      "source": [
        "#### Scaling\n",
        "Let's scale the numerical data so we don't have a whole bunch of outliers."
      ],
      "metadata": {
        "id": "oEtatnvdWo1w"
      }
    },
    {
      "cell_type": "code",
      "source": [
        "from sklearn.preprocessing import StandardScaler\n",
        "\n",
        "# Selecting features for clustering\n",
        "features = ['Confirmed Cases', 'Death Cases', 'Recovered Cases']\n",
        "\n",
        "# Scaling the data\n",
        "scaler = StandardScaler()\n",
        "scaled_data = scaler.fit_transform(data[features])\n",
        "\n",
        "scaled_data[:5]  # Display the first 5 rows of scaled data\n"
      ],
      "metadata": {
        "colab": {
          "base_uri": "https://localhost:8080/"
        },
        "id": "GYyD9XGzWirs",
        "outputId": "8e50f009-6185-414f-886e-fd21a8863f98"
      },
      "execution_count": null,
      "outputs": [
        {
          "output_type": "execute_result",
          "data": {
            "text/plain": [
              "array([[-0.13276838, -0.15851439, -0.1306235 ],\n",
              "       [-0.13276838, -0.15851439, -0.1306235 ],\n",
              "       [-0.13276838, -0.15851439, -0.1306235 ],\n",
              "       [-0.13276838, -0.15851439, -0.1306235 ],\n",
              "       [-0.13276838, -0.15851439, -0.1306235 ]])"
            ]
          },
          "metadata": {},
          "execution_count": 10
        }
      ]
    },
    {
      "cell_type": "markdown",
      "source": [
        "#### Determining Optimal Number of Clusters\n",
        "The Elbow Method is a common technique to determine the optimal number of clusters for the KMeans algorithm. We'll use this method to visualize and select an appropriate number of clusters.\n",
        "\n",
        "Let's compute and plot the sum of squared distances (inertia) for different numbers of clusters to identify the \"elbow\" point."
      ],
      "metadata": {
        "id": "Z2Iz-UsxWqq5"
      }
    },
    {
      "cell_type": "code",
      "source": [
        "from sklearn.cluster import KMeans\n",
        "import matplotlib.pyplot as plt\n",
        "\n",
        "# Using the Elbow method to find the optimal number of clusters\n",
        "wcss = []  # within-cluster sum of squares\n",
        "for i in range(1, 11):\n",
        "    kmeans = KMeans(n_clusters=i, init='k-means++', random_state=42)\n",
        "    kmeans.fit(scaled_data)\n",
        "    wcss.append(kmeans.inertia_)\n",
        "\n",
        "# Plotting the Elbow method graph\n",
        "plt.figure(figsize=(10, 5))\n",
        "plt.plot(range(1, 11), wcss, marker='o', linestyle='--')\n",
        "plt.title('Elbow Method')\n",
        "plt.xlabel('Number of clusters')\n",
        "plt.ylabel('WCSS')\n",
        "plt.grid(True)\n",
        "plt.tight_layout()\n",
        "plt.show()\n"
      ],
      "metadata": {
        "colab": {
          "base_uri": "https://localhost:8080/",
          "height": 874
        },
        "id": "6lzvkoMUWwyQ",
        "outputId": "e728490d-19f8-41ba-bee1-4ad3f1e67b1b"
      },
      "execution_count": null,
      "outputs": [
        {
          "output_type": "stream",
          "name": "stderr",
          "text": [
            "/usr/local/lib/python3.10/dist-packages/sklearn/cluster/_kmeans.py:870: FutureWarning: The default value of `n_init` will change from 10 to 'auto' in 1.4. Set the value of `n_init` explicitly to suppress the warning\n",
            "  warnings.warn(\n",
            "/usr/local/lib/python3.10/dist-packages/sklearn/cluster/_kmeans.py:870: FutureWarning: The default value of `n_init` will change from 10 to 'auto' in 1.4. Set the value of `n_init` explicitly to suppress the warning\n",
            "  warnings.warn(\n",
            "/usr/local/lib/python3.10/dist-packages/sklearn/cluster/_kmeans.py:870: FutureWarning: The default value of `n_init` will change from 10 to 'auto' in 1.4. Set the value of `n_init` explicitly to suppress the warning\n",
            "  warnings.warn(\n",
            "/usr/local/lib/python3.10/dist-packages/sklearn/cluster/_kmeans.py:870: FutureWarning: The default value of `n_init` will change from 10 to 'auto' in 1.4. Set the value of `n_init` explicitly to suppress the warning\n",
            "  warnings.warn(\n",
            "/usr/local/lib/python3.10/dist-packages/sklearn/cluster/_kmeans.py:870: FutureWarning: The default value of `n_init` will change from 10 to 'auto' in 1.4. Set the value of `n_init` explicitly to suppress the warning\n",
            "  warnings.warn(\n",
            "/usr/local/lib/python3.10/dist-packages/sklearn/cluster/_kmeans.py:870: FutureWarning: The default value of `n_init` will change from 10 to 'auto' in 1.4. Set the value of `n_init` explicitly to suppress the warning\n",
            "  warnings.warn(\n",
            "/usr/local/lib/python3.10/dist-packages/sklearn/cluster/_kmeans.py:870: FutureWarning: The default value of `n_init` will change from 10 to 'auto' in 1.4. Set the value of `n_init` explicitly to suppress the warning\n",
            "  warnings.warn(\n",
            "/usr/local/lib/python3.10/dist-packages/sklearn/cluster/_kmeans.py:870: FutureWarning: The default value of `n_init` will change from 10 to 'auto' in 1.4. Set the value of `n_init` explicitly to suppress the warning\n",
            "  warnings.warn(\n",
            "/usr/local/lib/python3.10/dist-packages/sklearn/cluster/_kmeans.py:870: FutureWarning: The default value of `n_init` will change from 10 to 'auto' in 1.4. Set the value of `n_init` explicitly to suppress the warning\n",
            "  warnings.warn(\n",
            "/usr/local/lib/python3.10/dist-packages/sklearn/cluster/_kmeans.py:870: FutureWarning: The default value of `n_init` will change from 10 to 'auto' in 1.4. Set the value of `n_init` explicitly to suppress the warning\n",
            "  warnings.warn(\n"
          ]
        },
        {
          "output_type": "display_data",
          "data": {
            "text/plain": [
              "<Figure size 1000x500 with 1 Axes>"
            ],
            "image/png": "[encoded data removed]"
          },
          "metadata": {}
        }
      ]
    },
    {
      "cell_type": "markdown",
      "source": [
        "#### Anomaly Detection\n",
        "Anomaly detection (or outlier detection) involves identifying data points that do not conform to expected patterns. These outliers can be due to variability in the data or anomalous events, and they can skew the results of data analysis.\n",
        "\n",
        "For this dataset, we will use the Isolation Forest method, an effective technique for detecting anomalies, especially for higher-dimensional datasets.\n",
        "\n",
        "We will:\n",
        "1. Apply the Isolation Forest algorithm to our clustered data.\n",
        "2. Identify the anomalies (outliers) in the data.\n",
        "3. Remove these outliers from our dataset for cleaner input into machine learning models."
      ],
      "metadata": {
        "id": "dcfzTQwjYJRf"
      }
    },
    {
      "cell_type": "code",
      "source": [
        "import pandas as pd\n",
        "from sklearn.preprocessing import StandardScaler\n",
        "from sklearn.cluster import KMeans\n",
        "from sklearn.ensemble import IsolationForest\n",
        "\n",
        "# Perform clustering on a smaller set of data (to manage computational limits)\n",
        "sample_data = data\n",
        "sample_data_scaled = scaler.transform(sample_data[features])\n",
        "\n",
        "# Apply KMeans clustering\n",
        "kmeans = KMeans(n_clusters=4, init='k-means++', random_state=42)\n",
        "clusters = kmeans.fit_predict(sample_data_scaled)\n",
        "sample_data['Cluster'] = clusters\n",
        "\n",
        "# Apply the Isolation Forest on a smaller subset (one cluster)\n",
        "cluster_data = sample_data[sample_data['Cluster'] == 0]  # focusing on one cluster\n",
        "cluster_data_scaled = scaler.transform(cluster_data[features])\n",
        "\n",
        "iso_forest = IsolationForest(contamination=0.05, random_state=42)\n",
        "anomalies = iso_forest.fit_predict(cluster_data_scaled)\n",
        "\n",
        "# Count the number of anomalies detected\n",
        "num_anomalies = (anomalies == -1).sum()\n",
        "num_anomalies"
      ],
      "metadata": {
        "colab": {
          "base_uri": "https://localhost:8080/"
        },
        "id": "B76158XeYgEi",
        "outputId": "01c84368-37a0-4f4e-b59f-37d43563981a"
      },
      "execution_count": null,
      "outputs": [
        {
          "output_type": "stream",
          "name": "stderr",
          "text": [
            "/usr/local/lib/python3.10/dist-packages/sklearn/cluster/_kmeans.py:870: FutureWarning: The default value of `n_init` will change from 10 to 'auto' in 1.4. Set the value of `n_init` explicitly to suppress the warning\n",
            "  warnings.warn(\n"
          ]
        },
        {
          "output_type": "execute_result",
          "data": {
            "text/plain": [
              "3673"
            ]
          },
          "metadata": {},
          "execution_count": 12
        }
      ]
    },
    {
      "cell_type": "code",
      "source": [
        "cluster_data['Anomaly'] = anomalies  # 'anomalies' is the array returned by iso_forest.fit_predict\n",
        "cleaned_cluster_data = cluster_data[cluster_data['Anomaly'] != -1]"
      ],
      "metadata": {
        "colab": {
          "base_uri": "https://localhost:8080/"
        },
        "id": "KFb4by8mY2rv",
        "outputId": "2cd8db56-36fb-4cae-8f9c-93e5e422b453"
      },
      "execution_count": null,
      "outputs": [
        {
          "output_type": "stream",
          "name": "stderr",
          "text": [
            "<ipython-input-13-24630641fd31>:1: SettingWithCopyWarning: \n",
            "A value is trying to be set on a copy of a slice from a DataFrame.\n",
            "Try using .loc[row_indexer,col_indexer] = value instead\n",
            "\n",
            "See the caveats in the documentation: https://pandas.pydata.org/pandas-docs/stable/user_guide/indexing.html#returning-a-view-versus-a-copy\n",
            "  cluster_data['Anomaly'] = anomalies  # 'anomalies' is the array returned by iso_forest.fit_predict\n"
          ]
        }
      ]
    },
    {
      "cell_type": "markdown",
      "source": [
        "### Feature Processing and Selection\n",
        "Feature processing involves transforming raw data into a format that is more appropriate for modeling. Given our dataset, here are a few steps we can take:\n",
        "\n",
        "1. Encoding Categorical Features: If we have categorical data (like 'Country/Region'), we might consider encoding these categories into numerical values. Techniques like one-hot encoding or label encoding are commonly used.\n",
        "\n",
        "2. Date Feature Extraction: The 'Dates' column can be enriched to extract more features. For example, we could derive features like 'Month', 'Year', 'Day of the Week', etc.\n",
        "\n",
        "3. Normalization/Standardization: We have already scaled the features for clustering purposes. If needed, we could apply additional scaling based on the requirements of specific models.\n"
      ],
      "metadata": {
        "id": "066EWNotZl-o"
      }
    },
    {
      "cell_type": "code",
      "source": [
        "from sklearn.ensemble import RandomForestRegressor\n",
        "from sklearn.model_selection import train_test_split\n",
        "\n",
        "# Selecting target variable and features\n",
        "target = 'Confirmed Cases'\n",
        "features = ['Lat', 'Long', 'Death Cases', 'Recovered Cases']  # basic features for preliminary assessment\n",
        "\n",
        "X = cleaned_cluster_data[features]\n",
        "y = cleaned_cluster_data[target]\n",
        "\n",
        "# Splitting the dataset into training and testing sets\n",
        "X_train, X_test, y_train, y_test = train_test_split(X, y, test_size=0.2, random_state=42)\n",
        "\n",
        "# Initialize a Random Forest Regressor and fit it to the training data\n",
        "rf = RandomForestRegressor(n_estimators=100, random_state=42)\n",
        "rf.fit(X_train, y_train)\n",
        "\n",
        "# Get feature importances\n",
        "feature_importances = rf.feature_importances_\n",
        "feature_importance_dict = dict(zip(features, feature_importances))\n",
        "\n",
        "feature_importance_dict\n"
      ],
      "metadata": {
        "colab": {
          "base_uri": "https://localhost:8080/"
        },
        "id": "mrI6DNMpZxAL",
        "outputId": "4ad47ccb-3625-41b8-bfda-b42442dcd07a"
      },
      "execution_count": null,
      "outputs": [
        {
          "output_type": "execute_result",
          "data": {
            "text/plain": [
              "{'Lat': 0.11455989588227863,\n",
              " 'Long': 0.1567155699595377,\n",
              " 'Death Cases': 0.7248293869771785,\n",
              " 'Recovered Cases': 0.0038951471810050307}"
            ]
          },
          "metadata": {},
          "execution_count": 14
        }
      ]
    },
    {
      "cell_type": "markdown",
      "source": [
        "#### Visualizations"
      ],
      "metadata": {
        "id": "4E-ER-1Lbqx1"
      }
    },
    {
      "cell_type": "code",
      "source": [
        "import pandas as pd\n",
        "import matplotlib.pyplot as plt\n",
        "\n",
        "# Convert 'Dates' to datetime format\n",
        "data['Dates'] = pd.to_datetime(data['Dates'])\n",
        "\n",
        "# Aggregate 'Confirmed Cases' globally\n",
        "global_cases = data.groupby('Dates')['Confirmed Cases'].sum().reset_index()\n",
        "\n",
        "# Creating the time series plot for 'Confirmed Cases'\n",
        "plt.figure(figsize=(14, 7))\n",
        "plt.plot(global_cases['Dates'], global_cases['Confirmed Cases'], color='blue', linestyle='-', marker='o')\n",
        "plt.title('Global Confirmed Cases Over Time')\n",
        "plt.xlabel('Date')\n",
        "plt.ylabel('Number of Confirmed Cases')\n",
        "plt.grid(True)\n",
        "plt.show()\n"
      ],
      "metadata": {
        "colab": {
          "base_uri": "https://localhost:8080/",
          "height": 641
        },
        "id": "JESEY_ckbQpZ",
        "outputId": "c5ee2d75-62c5-4873-9cba-6a90147bcd53"
      },
      "execution_count": null,
      "outputs": [
        {
          "output_type": "display_data",
          "data": {
            "text/plain": [
              "<Figure size 1400x700 with 1 Axes>"
            ],
            "image/png": "[encoded data removed]"
          },
          "metadata": {}
        }
      ]
    },
    {
      "cell_type": "code",
      "source": [
        "# Aggregate 'Death Cases' globally\n",
        "global_deaths = data.groupby('Dates')['Death Cases'].sum().reset_index()\n",
        "\n",
        "# Creating the time series plot for 'Death Cases'\n",
        "plt.figure(figsize=(14, 7))\n",
        "plt.plot(global_deaths['Dates'], global_deaths['Death Cases'], color='red', linestyle='-', marker='o')\n",
        "plt.title('Global Death Cases Over Time')\n",
        "plt.xlabel('Date')\n",
        "plt.ylabel('Number of Death Cases')\n",
        "plt.grid(True)\n",
        "plt.show()\n"
      ],
      "metadata": {
        "colab": {
          "base_uri": "https://localhost:8080/",
          "height": 641
        },
        "id": "xIJKzDSkbbdq",
        "outputId": "29e9aea1-3ebe-48b6-fd33-2ba880a3f9e2"
      },
      "execution_count": null,
      "outputs": [
        {
          "output_type": "display_data",
          "data": {
            "text/plain": [
              "<Figure size 1400x700 with 1 Axes>"
            ],
            "image/png": "[encoded data removed]"
          },
          "metadata": {}
        }
      ]
    },
    {
      "cell_type": "markdown",
      "source": [
        "The graph above displays the global number of death cases over time. From the visualization, we observe the trends and possibly identify specific periods where there were significant increases, which might correlate with certain events or stages of the COVID-19 pandemic."
      ],
      "metadata": {
        "id": "D2e-7WgZbfhY"
      }
    },
    {
      "cell_type": "code",
      "source": [
        "# Aggregate 'Recovered Cases' globally\n",
        "global_recovered = data.groupby('Dates')['Recovered Cases'].sum().reset_index()\n",
        "\n",
        "# Creating the time series plot for 'Recovered Cases'\n",
        "plt.figure(figsize=(14, 7))\n",
        "plt.plot(global_recovered['Dates'], global_recovered['Recovered Cases'], color='green', linestyle='-', marker='o')\n",
        "plt.title('Global Recovered Cases Over Time')\n",
        "plt.xlabel('Date')\n",
        "plt.ylabel('Number of Recovered Cases')\n",
        "plt.grid(True)\n",
        "plt.show()\n"
      ],
      "metadata": {
        "colab": {
          "base_uri": "https://localhost:8080/",
          "height": 641
        },
        "id": "m9XrUBLAbg_3",
        "outputId": "51f2ce67-ead3-47bd-9cf5-4dd65b478cec"
      },
      "execution_count": null,
      "outputs": [
        {
          "output_type": "display_data",
          "data": {
            "text/plain": [
              "<Figure size 1400x700 with 1 Axes>"
            ],
            "image/png": "[encoded data removed]"
          },
          "metadata": {}
        }
      ]
    },
    {
      "cell_type": "markdown",
      "source": [
        "The graph illustrates the global number of recovered cases over time. This visualization helps us understand the recovery trends and observe periods of increased recoveries, which might correspond with effective health measures, treatments, or other significant events during the pandemic.\n",
        "\n",
        "With these visuals, we've gained an overview of the COVID-19 impact in terms of confirmed cases, deaths, and recoveries. These trends are foundational for any further time series analysis or forecasting you might want to conduct."
      ],
      "metadata": {
        "id": "SzS7abSfboGr"
      }
    },
    {
      "cell_type": "code",
      "source": [
        "data.columns"
      ],
      "metadata": {
        "colab": {
          "base_uri": "https://localhost:8080/"
        },
        "id": "2ziy0Xy0bo9x",
        "outputId": "70ff27da-05aa-4551-bfd2-beb41fc84cc8"
      },
      "execution_count": null,
      "outputs": [
        {
          "output_type": "execute_result",
          "data": {
            "text/plain": [
              "Index(['Province/State', 'Country/Region', 'Lat', 'Long', 'Dates',\n",
              "       'Confirmed Cases', 'Death Cases', 'Recovered Cases', 'Cluster'],\n",
              "      dtype='object')"
            ]
          },
          "metadata": {},
          "execution_count": 18
        }
      ]
    },
    {
      "cell_type": "markdown",
      "source": [
        "#### Feature Importance\n",
        "In this section, we will try to find the feature importance to see which features we should look like. We will do this through using an ensemble model."
      ],
      "metadata": {
        "id": "NPu-HM69dPY-"
      }
    },
    {
      "cell_type": "code",
      "source": [
        "# Import necessary libraries\n",
        "import pandas as pd\n",
        "from sklearn.ensemble import RandomForestRegressor\n",
        "from sklearn.model_selection import train_test_split\n",
        "\n",
        "# Convert 'Dates' to datetime format (if it's not already)\n",
        "data['Dates'] = pd.to_datetime(data['Dates'])\n",
        "\n",
        "# Select features for the model\n",
        "features = ['Lat', 'Long', 'Confirmed Cases']  # Geographic coordinates and confirmed cases\n",
        "target = 'Death Cases'\n",
        "\n",
        "X = data[features]\n",
        "y = data[target]\n",
        "\n",
        "# Split the data into training and testing sets\n",
        "X_train, X_test, y_train, y_test = train_test_split(X, y, test_size=0.2, random_state=42)\n",
        "\n",
        "# Initialize and train the Random Forest model\n",
        "rf_model = RandomForestRegressor(n_estimators=100, random_state=42)\n",
        "rf_model.fit(X_train, y_train)\n",
        "\n",
        "# Retrieve and store feature importances\n",
        "importances = rf_model.feature_importances_\n",
        "feature_importances_df = pd.DataFrame({'Feature': features, 'Importance': importances})\n",
        "\n",
        "# Displaying feature importances\n",
        "print(feature_importances_df.sort_values(by='Importance', ascending=False))\n"
      ],
      "metadata": {
        "colab": {
          "base_uri": "https://localhost:8080/"
        },
        "id": "dOiUainvdAhW",
        "outputId": "d22cefda-3f08-4f27-841a-66176c4bda0f"
      },
      "execution_count": null,
      "outputs": [
        {
          "output_type": "stream",
          "name": "stdout",
          "text": [
            "           Feature  Importance\n",
            "2  Confirmed Cases    0.874794\n",
            "1             Long    0.085406\n",
            "0              Lat    0.039800\n"
          ]
        }
      ]
    },
    {
      "cell_type": "markdown",
      "source": [
        "#### Feature Importance Interepretation\n",
        "\n",
        "1. **Confirmed Cases** (Importance: 87.48%): This feature holds the most predictive power. It suggests a strong relationship between the number of confirmed cases and the number of deaths. This is intuitive, as areas with higher infection rates are likely to experience more deaths, given the nature of the pandemic.\n",
        "\n",
        "2. **Long (Longitude)** (Importance: 8.54%): Longitude appears to have some relevance, though significantly less than 'Confirmed Cases'. This could indicate that certain longitudinal regions (possibly corresponding to specific countries or areas within countries) have higher death rates. These disparities could be due to various factors, including healthcare quality, population age, or other demographic or social differences.\n",
        "\n",
        "3. **Lat (Latitude)** (Importance: 3.98%): Latitude holds the least predictive power among the three. While geographical location might have some influence (perhaps due to climate, healthcare access, or government response quality), it is far less influential in this model than the actual confirmed case numbers."
      ],
      "metadata": {
        "id": "8WNCuEY9daxW"
      }
    },
    {
      "cell_type": "markdown",
      "source": [
        "#### Feature Engineering for Time Series\n",
        "1. Date Feature Breakdown: We'll break down the 'Date' column into multiple columns (year, month, day, day of week, etc.) to capture any inherent trends, seasonality, or cyclic behavior in the data.\n",
        "\n",
        "2. Lag Features: These are features created from past values in the time series. They can help the model understand patterns like \"how many cases were confirmed in the past week\" or \"what was the number of death cases the previous day\".\n",
        "\n",
        "3. Rolling Window Statistics: We'll create features that represent rolling window calculations, such as the average number of cases over the past 7 days. These can help capture short-term trends or fluctuations.\n",
        "\n",
        "4. Exponential Weighted Features: Similar to rolling window statistics, but these give more weight to recent observations, potentially capturing trend shifts more effectively.\n",
        "\n",
        "First, we'll handle the 'Date' column transformation and then proceed to more advanced features like lag features and rolling statistics."
      ],
      "metadata": {
        "id": "kDnURZFgeiHN"
      }
    },
    {
      "cell_type": "code",
      "source": [
        "# Convert 'Date' to datetime if not already\n",
        "data['Dates'] = pd.to_datetime(data['Dates'])\n",
        "\n",
        "# Extract components from 'Date'\n",
        "data['year'] = data['Dates'].dt.year\n",
        "data['month'] = data['Dates'].dt.month\n",
        "data['day'] = data['Dates'].dt.day\n",
        "data['day_of_week'] = data['Dates'].dt.dayofweek  # Monday=0, Sunday=6\n",
        "\n",
        "# You can also create a 'weekend' feature if you think that might be relevant\n",
        "data['is_weekend'] = data['day_of_week'].isin([5, 6]).astype(int)\n"
      ],
      "metadata": {
        "id": "uMrWLp5uehyX"
      },
      "execution_count": null,
      "outputs": []
    },
    {
      "cell_type": "markdown",
      "source": [
        "##### Creating Lag Features and Rolling Window Statistics\n",
        "1. Lag Features: These are the data points corresponding to earlier time steps. For instance, the number of death cases from the previous day can be a predictor for today.\n",
        "\n",
        "2. Rolling Window Statistics: This involves calculating moving averages or other statistics over a specific window of time, providing smoothed views of trends in the data."
      ],
      "metadata": {
        "id": "isZasYsoe7_a"
      }
    },
    {
      "cell_type": "code",
      "source": [
        "# Creating lag features\n",
        "def create_lag_features(df, original_feature, lags):\n",
        "    \"\"\"\n",
        "    This function creates lag features given a list of lag periods.\n",
        "\n",
        "    Args:\n",
        "    df (DataFrame): The original dataframe.\n",
        "    original_feature (str): The name of the feature to create lags for.\n",
        "    lags (list): A list of integers representing the periods of lag.\n",
        "\n",
        "    Returns:\n",
        "    DataFrame: A dataframe with the new lag features.\n",
        "    \"\"\"\n",
        "    for lag in lags:\n",
        "        df[f'{original_feature}_lag_{lag}'] = df[original_feature].shift(lag)\n",
        "    return df\n",
        "\n",
        "# Specify the original feature and the number of lags\n",
        "original_feature = 'Death Cases'\n",
        "lags = [1, 2, 7]  # these represent the previous day, the day before, and the past week\n",
        "\n",
        "# Create lag features\n",
        "data = create_lag_features(data, original_feature, lags)\n",
        "\n",
        "# Creating rolling window statistics\n",
        "window_size = 7  # 7-day window for weekly patterns\n",
        "\n",
        "# Define the statistics you want to calculate\n",
        "data[f'{original_feature}_rolling_mean'] = data[original_feature].rolling(window=window_size).mean()\n",
        "data[f'{original_feature}_rolling_std'] = data[original_feature].rolling(window=window_size).std()\n",
        "\n",
        "# Note: You can add more rolling statistics (like min, max, median) based on your analysis needs\n"
      ],
      "metadata": {
        "id": "A7URx7Sfe7xP"
      },
      "execution_count": null,
      "outputs": []
    },
    {
      "cell_type": "markdown",
      "source": [
        "## Model Training using Ensemble Model\n",
        "we're ready to dive into model training. We'll use the Random Forest model for this task, as it's versatile, handles regression tasks well, and doesn't require feature scaling. It's also beneficial for its implicit handling of non-linear relationships and interactions between features."
      ],
      "metadata": {
        "id": "jdK-6h_LfVHC"
      }
    },
    {
      "cell_type": "code",
      "source": [
        "from sklearn.ensemble import RandomForestRegressor\n",
        "from sklearn.model_selection import train_test_split\n",
        "from sklearn.metrics import mean_squared_error, mean_absolute_error\n",
        "import numpy as np\n",
        "\n",
        "# Before training, ensure that there are no missing values, as machine learning models don't handle them well.\n",
        "# You might need to fill missing values if any, especially for new features like lag and rolling statistics.\n",
        "data = data.dropna()\n",
        "\n",
        "# Select features for training the model. Here, we include the newly created time-series features.\n",
        "feature_cols = ['year', 'month', 'day', 'day_of_week', 'is_weekend',\n",
        "                'Death Cases_lag_1', 'Death Cases_lag_2', 'Death Cases_lag_7',\n",
        "                'Death Cases_rolling_mean', 'Death Cases_rolling_std']  # add or remove features as needed\n",
        "\n",
        "X = data[feature_cols]\n",
        "y = data['Death Cases']  # target variable\n",
        "\n",
        "# Split the data into training and testing sets. We're using a time-based split.\n",
        "train_size = int(len(data) * 0.8)\n",
        "X_train, X_test = X[:train_size], X[train_size:]\n",
        "y_train, y_test = y[:train_size], y[train_size:]\n",
        "\n",
        "# Initialize the Random Forest Regressor model\n",
        "rf = RandomForestRegressor(n_estimators=100, random_state=42)\n",
        "\n",
        "# Train the model\n",
        "rf.fit(X_train, y_train)\n",
        "\n",
        "# Make predictions on the test set\n",
        "y_pred = rf.predict(X_test)\n",
        "\n",
        "# Evaluate the model's performance\n",
        "mse = mean_squared_error(y_test, y_pred)\n",
        "mae = mean_absolute_error(y_test, y_pred)\n",
        "rmse = np.sqrt(mse)  # Root Mean Squared Error\n",
        "\n",
        "print(f\"Mean Squared Error: {mse}\")\n",
        "print(f\"Mean Absolute Error: {mae}\")\n",
        "print(f\"Root Mean Squared Error: {rmse}\")\n"
      ],
      "metadata": {
        "colab": {
          "base_uri": "https://localhost:8080/"
        },
        "id": "BPQvl1-sfuk_",
        "outputId": "986d7d2c-cbe0-421e-923a-f29a8c453366"
      },
      "execution_count": null,
      "outputs": [
        {
          "output_type": "stream",
          "name": "stdout",
          "text": [
            "Mean Squared Error: 247116913.34855002\n",
            "Mean Absolute Error: 3847.0073891755983\n",
            "Root Mean Squared Error: 15719.952714577421\n"
          ]
        }
      ]
    },
    {
      "cell_type": "markdown",
      "source": [
        "## Conclusion\n",
        "In this notebook, we conducted a thorough analysis and predictive modeling process on a COVID-19 dataset, focusing on understanding the factors contributing to death cases and attempting to predict them accurately. Below is a summary of the steps undertaken:\n",
        "\n",
        "1. Data Preprocessing and Exploration\n",
        "Loaded the global COVID-19 dataset and inspected it for structure, missing values, and basic statistics.\n",
        "Performed data cleaning by handling missing or incorrect values, specifically within the 'Recovered' column.\n",
        "Conducted exploratory data analysis (EDA) to understand the distribution and trends within key metrics such as confirmed cases, deaths, and recoveries. This included generating time-series plots to visualize these trends over time.\n",
        "2. Feature Engineering and Selection\n",
        "Enhanced the dataset's predictive power by engineering features suitable for time-series analysis. This included breaking down dates into more granular components (like day, month, year) and creating lag features to incorporate historical data points.\n",
        "Implemented rolling window statistics (such as 7-day rolling averages) to smooth out short-term fluctuations and highlight longer-term trends and cycles.\n",
        "Assessed feature importance using a tree-based model (Random Forest) to understand which predictors are most influential in forecasting death cases.\n",
        "3. Clustering and Anomaly Detection\n",
        "Employed clustering techniques (like K-Means) to understand the inherent groupings within the data, particularly concerning geographical similarities.\n",
        "Utilized anomaly detection to identify and understand extreme values or outliers within the dataset, contributing to a more robust predictive model by acknowledging these anomalies.\n",
        "4. Predictive Modeling with Machine Learning\n",
        "Prepared the dataset for machine learning by finalizing feature selection, handling any remaining data preprocessing, and creating a time-based split for training and testing datasets.\n",
        "Initiated a baseline machine learning model (Random Forest) to predict the number of death cases, providing an initial understanding of the model's performance and areas for improvement.\n",
        "Expanded predictive power by implementing an ensemble learning technique (Stacking Regressor) that combines multiple machine learning models' predictions. This approach aimed to improve prediction accuracy by leveraging each model's strengths.\n",
        "5. Evaluation and Next Steps\n",
        "Evaluated model performance using metrics like Mean Squared Error (MSE), Mean Absolute Error (MAE), and Root Mean Squared Error (RMSE), identifying areas where the model performed well and where it requires improvement.\n",
        "Acknowledged the need for potential strategies to enhance model performance. These include further feature engineering, hyperparameter tuning, advanced time-series modeling techniques, and possibly the inclusion of additional relevant data.\n",
        "Final Thoughts\n",
        "This analysis served as a comprehensive approach to understanding COVID-19 death cases' predictive factors. While we achieved certain insights and predictive capabilities, there remains room for further improvement. Future directions include more sophisticated time-series forecasting models, deeper anomaly detection and handling, and continual iteration on feature engineering and model selection. The fight against COVID-19 is an evolving challenge, and as such, our analytical methodologies and data strategies must continue to evolve alongside it.\n",
        "\n",
        "\n",
        "In the end, our model was not very good at prediction, but that is okay because we learned a lot throughout the process."
      ],
      "metadata": {
        "id": "ZY8zLTcPgGDk"
      }
    }
  ]
}