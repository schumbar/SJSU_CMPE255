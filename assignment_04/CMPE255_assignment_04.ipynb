{
  "nbformat": 4,
  "nbformat_minor": 0,
  "metadata": {
    "colab": {
      "provenance": [],
      "authorship_tag": "ABX9TyNA/8nd2/gflf8jWKwFHuhC",
      "include_colab_link": true
    },
    "kernelspec": {
      "name": "python3",
      "display_name": "Python 3"
    },
    "language_info": {
      "name": "python"
    }
  },
  "cells": [
    {
      "cell_type": "markdown",
      "metadata": {
        "id": "view-in-github",
        "colab_type": "text"
      },
      "source": [
        "<a href=\"https://colab.research.google.com/github/schumbar/SJSU_CMPE255/blob/main/assignment_04/CMPE255_assignment_04.ipynb\" target=\"_parent\"><img src=\"https://colab.research.google.com/assets/colab-badge.svg\" alt=\"Open In Colab\"/></a>"
      ]
    },
    {
      "cell_type": "markdown",
      "source": [
        "# Assignment 04: Apache Beam Data Engineering Assignment"
      ],
      "metadata": {
        "id": "AjoAXDPL4Xr8"
      }
    },
    {
      "cell_type": "code",
      "source": [],
      "metadata": {
        "id": "llMj8VpR4dXK"
      },
      "execution_count": null,
      "outputs": []
    }
  ]
}